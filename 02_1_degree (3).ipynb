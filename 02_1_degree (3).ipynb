{
  "cells": [
    {
      "cell_type": "markdown",
      "id": "29eedd06-4cd6-41fc-aa4e-569dd4f521bd",
      "metadata": {
        "id": "29eedd06-4cd6-41fc-aa4e-569dd4f521bd"
      },
      "source": [
        "# Распределение степеней узлов"
      ]
    },
    {
      "cell_type": "markdown",
      "id": "f6b687e9-05ef-4908-8bde-2b5dbbe576b6",
      "metadata": {
        "id": "f6b687e9-05ef-4908-8bde-2b5dbbe576b6"
      },
      "source": [
        "__Авторы задач: Макрушин С.В (SVMakrushin@fa.ru), Блохин Н.В. (NVBlokhin@fa.ru)__\n",
        "\n",
        "Материалы:\n",
        "* Макрушин С.В. \"Лекция 2: Модели\"\n",
        "* Документация:\n",
        "    * https://networkx.org/documentation/stable/reference/generated/networkx.linalg.graphmatrix.adjacency_matrix.html\n",
        "    * https://networkx.org/documentation/stable/reference/classes/generated/networkx.Graph.degree.html\n",
        "    * https://networkx.org/documentation/stable/reference/classes/generated/networkx.DiGraph.in_degree.html\n",
        "    * https://networkx.org/documentation/stable/reference/classes/generated/networkx.DiGraph.out_degree.html\n",
        "* Дополнительные источники:\n",
        "    * https://www.scaler.com/topics/matplotlib/logarithmic-scale-matplotlib/\n",
        "* Датасеты с сетями:\n",
        "    * http://networkrepository.com"
      ]
    },
    {
      "cell_type": "markdown",
      "id": "a13ab35d-a7c0-4237-a394-691389c7c773",
      "metadata": {
        "id": "a13ab35d-a7c0-4237-a394-691389c7c773"
      },
      "source": [
        "## Вопросы для совместного обсуждения"
      ]
    },
    {
      "cell_type": "markdown",
      "id": "7ea53db8-da33-43ee-95e0-9876384499c1",
      "metadata": {
        "id": "7ea53db8-da33-43ee-95e0-9876384499c1"
      },
      "source": [
        "1\\. Обсудите различные подходы к вычислению степеней узлов графа."
      ]
    },
    {
      "cell_type": "code",
      "source": [
        "import networkx as nx"
      ],
      "metadata": {
        "id": "iVmBDYOQWD7I"
      },
      "id": "iVmBDYOQWD7I",
      "execution_count": null,
      "outputs": []
    },
    {
      "cell_type": "code",
      "source": [
        "G = nx.empty_graph() # G = nx.Graph()\n",
        "G.add_edges_from([(0, 1), (1, 2), (2, 3)])"
      ],
      "metadata": {
        "id": "Awd3G-rFWFui"
      },
      "id": "Awd3G-rFWFui",
      "execution_count": null,
      "outputs": []
    },
    {
      "cell_type": "code",
      "source": [
        "G.nodes"
      ],
      "metadata": {
        "colab": {
          "base_uri": "https://localhost:8080/"
        },
        "id": "mPOgHAhAehET",
        "outputId": "dfc6086d-f26a-4f89-e02b-bcdd369db624"
      },
      "id": "mPOgHAhAehET",
      "execution_count": null,
      "outputs": [
        {
          "output_type": "execute_result",
          "data": {
            "text/plain": [
              "NodeView((0, 1, 2, 3))"
            ]
          },
          "metadata": {},
          "execution_count": 9
        }
      ]
    },
    {
      "cell_type": "code",
      "source": [
        "G.degree"
      ],
      "metadata": {
        "colab": {
          "base_uri": "https://localhost:8080/"
        },
        "id": "DcyP3TDVWces",
        "outputId": "ca218622-fb74-4939-ce64-2e1678036b21"
      },
      "id": "DcyP3TDVWces",
      "execution_count": null,
      "outputs": [
        {
          "output_type": "execute_result",
          "data": {
            "text/plain": [
              "DegreeView({0: 1, 1: 2, 2: 2, 3: 1})"
            ]
          },
          "metadata": {},
          "execution_count": 10
        }
      ]
    },
    {
      "cell_type": "code",
      "source": [
        "G.degree()"
      ],
      "metadata": {
        "colab": {
          "base_uri": "https://localhost:8080/"
        },
        "id": "MPOgmiupWe5q",
        "outputId": "71252f61-01a5-4a91-cbd4-bc4dbb804759"
      },
      "id": "MPOgmiupWe5q",
      "execution_count": null,
      "outputs": [
        {
          "output_type": "execute_result",
          "data": {
            "text/plain": [
              "DegreeView({0: 1, 1: 2, 2: 2, 3: 1})"
            ]
          },
          "metadata": {},
          "execution_count": 11
        }
      ]
    },
    {
      "cell_type": "code",
      "source": [
        "A = nx.adjacency_matrix(G).toarray()\n",
        "A"
      ],
      "metadata": {
        "colab": {
          "base_uri": "https://localhost:8080/"
        },
        "id": "IkOwN75YWx56",
        "outputId": "dd062043-0bcc-47a7-ae6f-e525343a8da9"
      },
      "id": "IkOwN75YWx56",
      "execution_count": null,
      "outputs": [
        {
          "output_type": "execute_result",
          "data": {
            "text/plain": [
              "array([[0, 1, 0, 0],\n",
              "       [1, 0, 1, 0],\n",
              "       [0, 1, 0, 1],\n",
              "       [0, 0, 1, 0]])"
            ]
          },
          "metadata": {},
          "execution_count": 12
        }
      ]
    },
    {
      "cell_type": "code",
      "source": [
        "A.sum(axis=1), A.sum(axis=0)"
      ],
      "metadata": {
        "colab": {
          "base_uri": "https://localhost:8080/"
        },
        "id": "Kw5Vh00XXFIa",
        "outputId": "5ab005fe-f191-485c-8232-892542df6c84"
      },
      "id": "Kw5Vh00XXFIa",
      "execution_count": null,
      "outputs": [
        {
          "output_type": "execute_result",
          "data": {
            "text/plain": [
              "(array([1, 2, 2, 1]), array([1, 2, 2, 1]))"
            ]
          },
          "metadata": {},
          "execution_count": 13
        }
      ]
    },
    {
      "cell_type": "code",
      "source": [
        "G = nx.empty_graph(create_using=nx.DiGraph) # G = nx.Graph()\n",
        "G.add_edges_from([(0, 1), (1, 2), (2, 3)])"
      ],
      "metadata": {
        "id": "NkZUs7UYXR50"
      },
      "id": "NkZUs7UYXR50",
      "execution_count": null,
      "outputs": []
    },
    {
      "cell_type": "code",
      "source": [
        "G.in_degree()"
      ],
      "metadata": {
        "colab": {
          "base_uri": "https://localhost:8080/"
        },
        "id": "ev-YaWJiXUTF",
        "outputId": "72224a72-d347-4a03-be06-3ae0ceb874ee"
      },
      "id": "ev-YaWJiXUTF",
      "execution_count": null,
      "outputs": [
        {
          "output_type": "execute_result",
          "data": {
            "text/plain": [
              "InDegreeView({0: 0, 1: 1, 2: 1, 3: 1})"
            ]
          },
          "metadata": {},
          "execution_count": 15
        }
      ]
    },
    {
      "cell_type": "code",
      "source": [
        "G.out_degree()"
      ],
      "metadata": {
        "colab": {
          "base_uri": "https://localhost:8080/"
        },
        "id": "XyAk_o_lXXlL",
        "outputId": "ff2be64b-8fcf-4ff7-f827-f1f57631dd6e"
      },
      "id": "XyAk_o_lXXlL",
      "execution_count": null,
      "outputs": [
        {
          "output_type": "execute_result",
          "data": {
            "text/plain": [
              "OutDegreeView({0: 1, 1: 1, 2: 1, 3: 0})"
            ]
          },
          "metadata": {},
          "execution_count": 16
        }
      ]
    },
    {
      "cell_type": "code",
      "source": [
        "G.degree()"
      ],
      "metadata": {
        "colab": {
          "base_uri": "https://localhost:8080/"
        },
        "id": "56NrH6oeXdds",
        "outputId": "00eb48da-aacd-4d71-accf-58cc0b3ff2f7"
      },
      "id": "56NrH6oeXdds",
      "execution_count": null,
      "outputs": [
        {
          "output_type": "execute_result",
          "data": {
            "text/plain": [
              "DiDegreeView({0: 1, 1: 2, 2: 2, 3: 1})"
            ]
          },
          "metadata": {},
          "execution_count": 17
        }
      ]
    },
    {
      "cell_type": "code",
      "source": [
        "A = nx.adjacency_matrix(G).toarray()\n",
        "A"
      ],
      "metadata": {
        "colab": {
          "base_uri": "https://localhost:8080/"
        },
        "id": "wkki1G2tXoLE",
        "outputId": "f6b7a6a8-736c-433b-82f1-0eac9424221f"
      },
      "id": "wkki1G2tXoLE",
      "execution_count": null,
      "outputs": [
        {
          "output_type": "execute_result",
          "data": {
            "text/plain": [
              "array([[0, 1, 0, 0],\n",
              "       [0, 0, 1, 0],\n",
              "       [0, 0, 0, 1],\n",
              "       [0, 0, 0, 0]])"
            ]
          },
          "metadata": {},
          "execution_count": 18
        }
      ]
    },
    {
      "cell_type": "code",
      "source": [
        "A.sum(axis=1), A.sum(axis=0)"
      ],
      "metadata": {
        "colab": {
          "base_uri": "https://localhost:8080/"
        },
        "id": "whFmq-TNXpIX",
        "outputId": "4f07c6bf-a3cd-4542-d998-20848eb25789"
      },
      "id": "whFmq-TNXpIX",
      "execution_count": null,
      "outputs": [
        {
          "output_type": "execute_result",
          "data": {
            "text/plain": [
              "(array([1, 1, 1, 0]), array([0, 1, 1, 1]))"
            ]
          },
          "metadata": {},
          "execution_count": 19
        }
      ]
    },
    {
      "cell_type": "code",
      "source": [
        "(A * 5)"
      ],
      "metadata": {
        "colab": {
          "base_uri": "https://localhost:8080/"
        },
        "id": "jRtnA3O8X0Vc",
        "outputId": "bbfa7ee1-c69f-4b50-a50e-8f3d3be2cd6c"
      },
      "id": "jRtnA3O8X0Vc",
      "execution_count": null,
      "outputs": [
        {
          "output_type": "execute_result",
          "data": {
            "text/plain": [
              "array([[0, 5, 0, 0],\n",
              "       [0, 0, 5, 0],\n",
              "       [0, 0, 0, 5],\n",
              "       [0, 0, 0, 0]])"
            ]
          },
          "metadata": {},
          "execution_count": 20
        }
      ]
    },
    {
      "cell_type": "markdown",
      "id": "ae243ebb",
      "metadata": {
        "id": "ae243ebb"
      },
      "source": [
        "2\\. Обсудите использование различных шкал (линейной, логарифмической) для визуализациии графиков."
      ]
    },
    {
      "cell_type": "code",
      "source": [
        "import matplotlib.pyplot as plt\n",
        "import numpy as np\n",
        "\n",
        "x = np.linspace(1, 50, 100)\n",
        "y = np.exp(-x)\n",
        "\n",
        "fig, ax = plt.subplots(1, 1, figsize=(10, 5))\n",
        "ax.plot(x, y)\n",
        "# ax.loglog(x, y)\n",
        "ax.set_yscale(\"log\")"
      ],
      "metadata": {
        "colab": {
          "base_uri": "https://localhost:8080/",
          "height": 445
        },
        "id": "GJuViS62Z4Rg",
        "outputId": "db45e244-f6f5-4343-d099-9aaeb1266e25"
      },
      "id": "GJuViS62Z4Rg",
      "execution_count": null,
      "outputs": [
        {
          "output_type": "display_data",
          "data": {
            "text/plain": [
              "<Figure size 1000x500 with 1 Axes>"
            ],
            "image/png": "[encoded data removed]"
          },
          "metadata": {}
        }
      ]
    },
    {
      "cell_type": "code",
      "source": [
        "import networkx as nx\n",
        "import matplotlib.pyplot as plt\n",
        "\n",
        "G = nx.Graph()\n",
        "G.add_edges_from([(1, 2), (2, 3), (3, 4)])\n",
        "\n",
        "# Визуализация с линейной шкалой\n",
        "nx.draw(G, with_labels=True)\n",
        "plt.show()"
      ],
      "metadata": {
        "id": "sKQdWUcoa12G",
        "colab": {
          "base_uri": "https://localhost:8080/",
          "height": 516
        },
        "outputId": "edea75db-5215-40e8-bd0b-c654d1bd1027"
      },
      "id": "sKQdWUcoa12G",
      "execution_count": null,
      "outputs": [
        {
          "output_type": "display_data",
          "data": {
            "text/plain": [
              "<Figure size 640x480 with 1 Axes>"
            ],
            "image/png": "[encoded data removed]"
          },
          "metadata": {}
        }
      ]
    },
    {
      "cell_type": "markdown",
      "id": "5f786de8-ba69-4d86-b997-e55c9028acad",
      "metadata": {
        "id": "5f786de8-ba69-4d86-b997-e55c9028acad"
      },
      "source": [
        "## Задачи для самостоятельного решения"
      ]
    },
    {
      "cell_type": "markdown",
      "id": "c08a6cb0-9b05-4a80-a4cc-a2f70d9cbfd7",
      "metadata": {
        "id": "c08a6cb0-9b05-4a80-a4cc-a2f70d9cbfd7"
      },
      "source": [
        "<p class=\"task\" id=\"1\"></p>\n",
        "\n",
        "1\\. Создайте неориентированный граф на основе набора данных `fb-pages-food` с сайта https://networkrepository.com/. Добавьте узлам атрибут `name`, который содержит имя человека. Удалите из графа все петли. Получите матрицу смежности графа и посчитайте степень каждого узла на основе этой матрицы. Выведите имя человека, чей узел имеет максимальную степень, и само значение степени.\n",
        "\n",
        "- [ ] Проверено на семинаре"
      ]
    },
    {
      "cell_type": "code",
      "source": [
        "import numpy as np\n",
        "import networkx as nx\n",
        "import matplotlib.pyplot as plt\n",
        "import pandas as pd"
      ],
      "metadata": {
        "id": "nGMJqrQdmtMN"
      },
      "id": "nGMJqrQdmtMN",
      "execution_count": 46,
      "outputs": []
    },
    {
      "cell_type": "code",
      "source": [
        "from google.colab import drive\n",
        "drive.mount('/content/drive')"
      ],
      "metadata": {
        "colab": {
          "base_uri": "https://localhost:8080/"
        },
        "id": "EABdFgXkmtPC",
        "outputId": "2721bfac-0477-48c8-bbae-aacbf7606ec6"
      },
      "id": "EABdFgXkmtPC",
      "execution_count": 47,
      "outputs": [
        {
          "output_type": "stream",
          "name": "stdout",
          "text": [
            "Drive already mounted at /content/drive; to attempt to forcibly remount, call drive.mount(\"/content/drive\", force_remount=True).\n"
          ]
        }
      ]
    },
    {
      "cell_type": "code",
      "source": [
        "edges_file = '/content/drive/MyDrive/fb-pages-food.edges'\n",
        "nodes_file = '/content/drive/MyDrive/fb-pages-food.nodes'\n",
        "\n",
        "edges_data = np.loadtxt(edges_file, dtype=str, delimiter=',')\n",
        "nodes_df = pd.read_csv(nodes_file, dtype=str)"
      ],
      "metadata": {
        "id": "oVEVLUDmk6UL"
      },
      "id": "oVEVLUDmk6UL",
      "execution_count": 48,
      "outputs": []
    },
    {
      "cell_type": "code",
      "source": [
        "nodes_df.head()"
      ],
      "metadata": {
        "id": "cmdoRdfbk6W0",
        "colab": {
          "base_uri": "https://localhost:8080/",
          "height": 206
        },
        "outputId": "64c8fa99-569d-40d5-acb5-2e865ef05e02"
      },
      "id": "cmdoRdfbk6W0",
      "execution_count": null,
      "outputs": [
        {
          "output_type": "execute_result",
          "data": {
            "text/plain": [
              "                id                     name new_id\n",
              "0  402449106435352               Josh Marks    386\n",
              "1     368969274888  Blue Ribbon Restaurants    473\n",
              "2  765596333518863                Pat Neely      1\n",
              "3  136870209668885               La Griglia    542\n",
              "4  840078802741859              Jose Garces    189"
            ],
            "text/html": [
              "\n",
              "  <div id=\"df-da4dbfea-677b-474b-b9d7-e6272721a762\" class=\"colab-df-container\">\n",
              "    <div>\n",
              "<style scoped>\n",
              "    .dataframe tbody tr th:only-of-type {\n",
              "        vertical-align: middle;\n",
              "    }\n",
              "\n",
              "    .dataframe tbody tr th {\n",
              "        vertical-align: top;\n",
              "    }\n",
              "\n",
              "    .dataframe thead th {\n",
              "        text-align: right;\n",
              "    }\n",
              "</style>\n",
              "<table border=\"1\" class=\"dataframe\">\n",
              "  <thead>\n",
              "    <tr style=\"text-align: right;\">\n",
              "      <th></th>\n",
              "      <th>id</th>\n",
              "      <th>name</th>\n",
              "      <th>new_id</th>\n",
              "    </tr>\n",
              "  </thead>\n",
              "  <tbody>\n",
              "    <tr>\n",
              "      <th>0</th>\n",
              "      <td>402449106435352</td>\n",
              "      <td>Josh Marks</td>\n",
              "      <td>386</td>\n",
              "    </tr>\n",
              "    <tr>\n",
              "      <th>1</th>\n",
              "      <td>368969274888</td>\n",
              "      <td>Blue Ribbon Restaurants</td>\n",
              "      <td>473</td>\n",
              "    </tr>\n",
              "    <tr>\n",
              "      <th>2</th>\n",
              "      <td>765596333518863</td>\n",
              "      <td>Pat Neely</td>\n",
              "      <td>1</td>\n",
              "    </tr>\n",
              "    <tr>\n",
              "      <th>3</th>\n",
              "      <td>136870209668885</td>\n",
              "      <td>La Griglia</td>\n",
              "      <td>542</td>\n",
              "    </tr>\n",
              "    <tr>\n",
              "      <th>4</th>\n",
              "      <td>840078802741859</td>\n",
              "      <td>Jose Garces</td>\n",
              "      <td>189</td>\n",
              "    </tr>\n",
              "  </tbody>\n",
              "</table>\n",
              "</div>\n",
              "    <div class=\"colab-df-buttons\">\n",
              "\n",
              "  <div class=\"colab-df-container\">\n",
              "    <button class=\"colab-df-convert\" onclick=\"convertToInteractive('df-da4dbfea-677b-474b-b9d7-e6272721a762')\"\n",
              "            title=\"Convert this dataframe to an interactive table.\"\n",
              "            style=\"display:none;\">\n",
              "\n",
              "  <svg xmlns=\"http://www.w3.org/2000/svg\" height=\"24px\" viewBox=\"0 -960 960 960\">\n",
              "    <path d=\"M120-120v-720h720v720H120Zm60-500h600v-160H180v160Zm220 220h160v-160H400v160Zm0 220h160v-160H400v160ZM180-400h160v-160H180v160Zm440 0h160v-160H620v160ZM180-180h160v-160H180v160Zm440 0h160v-160H620v160Z\"/>\n",
              "  </svg>\n",
              "    </button>\n",
              "\n",
              "  <style>\n",
              "    .colab-df-container {\n",
              "      display:flex;\n",
              "      gap: 12px;\n",
              "    }\n",
              "\n",
              "    .colab-df-convert {\n",
              "      background-color: #E8F0FE;\n",
              "      border: none;\n",
              "      border-radius: 50%;\n",
              "      cursor: pointer;\n",
              "      display: none;\n",
              "      fill: #1967D2;\n",
              "      height: 32px;\n",
              "      padding: 0 0 0 0;\n",
              "      width: 32px;\n",
              "    }\n",
              "\n",
              "    .colab-df-convert:hover {\n",
              "      background-color: #E2EBFA;\n",
              "      box-shadow: 0px 1px 2px rgba(60, 64, 67, 0.3), 0px 1px 3px 1px rgba(60, 64, 67, 0.15);\n",
              "      fill: #174EA6;\n",
              "    }\n",
              "\n",
              "    .colab-df-buttons div {\n",
              "      margin-bottom: 4px;\n",
              "    }\n",
              "\n",
              "    [theme=dark] .colab-df-convert {\n",
              "      background-color: #3B4455;\n",
              "      fill: #D2E3FC;\n",
              "    }\n",
              "\n",
              "    [theme=dark] .colab-df-convert:hover {\n",
              "      background-color: #434B5C;\n",
              "      box-shadow: 0px 1px 3px 1px rgba(0, 0, 0, 0.15);\n",
              "      filter: drop-shadow(0px 1px 2px rgba(0, 0, 0, 0.3));\n",
              "      fill: #FFFFFF;\n",
              "    }\n",
              "  </style>\n",
              "\n",
              "    <script>\n",
              "      const buttonEl =\n",
              "        document.querySelector('#df-da4dbfea-677b-474b-b9d7-e6272721a762 button.colab-df-convert');\n",
              "      buttonEl.style.display =\n",
              "        google.colab.kernel.accessAllowed ? 'block' : 'none';\n",
              "\n",
              "      async function convertToInteractive(key) {\n",
              "        const element = document.querySelector('#df-da4dbfea-677b-474b-b9d7-e6272721a762');\n",
              "        const dataTable =\n",
              "          await google.colab.kernel.invokeFunction('convertToInteractive',\n",
              "                                                    [key], {});\n",
              "        if (!dataTable) return;\n",
              "\n",
              "        const docLinkHtml = 'Like what you see? Visit the ' +\n",
              "          '<a target=\"_blank\" href=https://colab.research.google.com/notebooks/data_table.ipynb>data table notebook</a>'\n",
              "          + ' to learn more about interactive tables.';\n",
              "        element.innerHTML = '';\n",
              "        dataTable['output_type'] = 'display_data';\n",
              "        await google.colab.output.renderOutput(dataTable, element);\n",
              "        const docLink = document.createElement('div');\n",
              "        docLink.innerHTML = docLinkHtml;\n",
              "        element.appendChild(docLink);\n",
              "      }\n",
              "    </script>\n",
              "  </div>\n",
              "\n",
              "\n",
              "<div id=\"df-ef821b7d-6e16-4ca6-a4bd-7a0d6db6e3b4\">\n",
              "  <button class=\"colab-df-quickchart\" onclick=\"quickchart('df-ef821b7d-6e16-4ca6-a4bd-7a0d6db6e3b4')\"\n",
              "            title=\"Suggest charts\"\n",
              "            style=\"display:none;\">\n",
              "\n",
              "<svg xmlns=\"http://www.w3.org/2000/svg\" height=\"24px\"viewBox=\"0 0 24 24\"\n",
              "     width=\"24px\">\n",
              "    <g>\n",
              "        <path d=\"M19 3H5c-1.1 0-2 .9-2 2v14c0 1.1.9 2 2 2h14c1.1 0 2-.9 2-2V5c0-1.1-.9-2-2-2zM9 17H7v-7h2v7zm4 0h-2V7h2v10zm4 0h-2v-4h2v4z\"/>\n",
              "    </g>\n",
              "</svg>\n",
              "  </button>\n",
              "\n",
              "<style>\n",
              "  .colab-df-quickchart {\n",
              "      --bg-color: #E8F0FE;\n",
              "      --fill-color: #1967D2;\n",
              "      --hover-bg-color: #E2EBFA;\n",
              "      --hover-fill-color: #174EA6;\n",
              "      --disabled-fill-color: #AAA;\n",
              "      --disabled-bg-color: #DDD;\n",
              "  }\n",
              "\n",
              "  [theme=dark] .colab-df-quickchart {\n",
              "      --bg-color: #3B4455;\n",
              "      --fill-color: #D2E3FC;\n",
              "      --hover-bg-color: #434B5C;\n",
              "      --hover-fill-color: #FFFFFF;\n",
              "      --disabled-bg-color: #3B4455;\n",
              "      --disabled-fill-color: #666;\n",
              "  }\n",
              "\n",
              "  .colab-df-quickchart {\n",
              "    background-color: var(--bg-color);\n",
              "    border: none;\n",
              "    border-radius: 50%;\n",
              "    cursor: pointer;\n",
              "    display: none;\n",
              "    fill: var(--fill-color);\n",
              "    height: 32px;\n",
              "    padding: 0;\n",
              "    width: 32px;\n",
              "  }\n",
              "\n",
              "  .colab-df-quickchart:hover {\n",
              "    background-color: var(--hover-bg-color);\n",
              "    box-shadow: 0 1px 2px rgba(60, 64, 67, 0.3), 0 1px 3px 1px rgba(60, 64, 67, 0.15);\n",
              "    fill: var(--button-hover-fill-color);\n",
              "  }\n",
              "\n",
              "  .colab-df-quickchart-complete:disabled,\n",
              "  .colab-df-quickchart-complete:disabled:hover {\n",
              "    background-color: var(--disabled-bg-color);\n",
              "    fill: var(--disabled-fill-color);\n",
              "    box-shadow: none;\n",
              "  }\n",
              "\n",
              "  .colab-df-spinner {\n",
              "    border: 2px solid var(--fill-color);\n",
              "    border-color: transparent;\n",
              "    border-bottom-color: var(--fill-color);\n",
              "    animation:\n",
              "      spin 1s steps(1) infinite;\n",
              "  }\n",
              "\n",
              "  @keyframes spin {\n",
              "    0% {\n",
              "      border-color: transparent;\n",
              "      border-bottom-color: var(--fill-color);\n",
              "      border-left-color: var(--fill-color);\n",
              "    }\n",
              "    20% {\n",
              "      border-color: transparent;\n",
              "      border-left-color: var(--fill-color);\n",
              "      border-top-color: var(--fill-color);\n",
              "    }\n",
              "    30% {\n",
              "      border-color: transparent;\n",
              "      border-left-color: var(--fill-color);\n",
              "      border-top-color: var(--fill-color);\n",
              "      border-right-color: var(--fill-color);\n",
              "    }\n",
              "    40% {\n",
              "      border-color: transparent;\n",
              "      border-right-color: var(--fill-color);\n",
              "      border-top-color: var(--fill-color);\n",
              "    }\n",
              "    60% {\n",
              "      border-color: transparent;\n",
              "      border-right-color: var(--fill-color);\n",
              "    }\n",
              "    80% {\n",
              "      border-color: transparent;\n",
              "      border-right-color: var(--fill-color);\n",
              "      border-bottom-color: var(--fill-color);\n",
              "    }\n",
              "    90% {\n",
              "      border-color: transparent;\n",
              "      border-bottom-color: var(--fill-color);\n",
              "    }\n",
              "  }\n",
              "</style>\n",
              "\n",
              "  <script>\n",
              "    async function quickchart(key) {\n",
              "      const quickchartButtonEl =\n",
              "        document.querySelector('#' + key + ' button');\n",
              "      quickchartButtonEl.disabled = true;  // To prevent multiple clicks.\n",
              "      quickchartButtonEl.classList.add('colab-df-spinner');\n",
              "      try {\n",
              "        const charts = await google.colab.kernel.invokeFunction(\n",
              "            'suggestCharts', [key], {});\n",
              "      } catch (error) {\n",
              "        console.error('Error during call to suggestCharts:', error);\n",
              "      }\n",
              "      quickchartButtonEl.classList.remove('colab-df-spinner');\n",
              "      quickchartButtonEl.classList.add('colab-df-quickchart-complete');\n",
              "    }\n",
              "    (() => {\n",
              "      let quickchartButtonEl =\n",
              "        document.querySelector('#df-ef821b7d-6e16-4ca6-a4bd-7a0d6db6e3b4 button');\n",
              "      quickchartButtonEl.style.display =\n",
              "        google.colab.kernel.accessAllowed ? 'block' : 'none';\n",
              "    })();\n",
              "  </script>\n",
              "</div>\n",
              "    </div>\n",
              "  </div>\n"
            ],
            "application/vnd.google.colaboratory.intrinsic+json": {
              "type": "dataframe",
              "variable_name": "nodes_df",
              "summary": "{\n  \"name\": \"nodes_df\",\n  \"rows\": 620,\n  \"fields\": [\n    {\n      \"column\": \"id\",\n      \"properties\": {\n        \"dtype\": \"string\",\n        \"num_unique_values\": 620,\n        \"samples\": [\n          \"117754781604926\",\n          \"91702965455\",\n          \"1850476678511558\"\n        ],\n        \"semantic_type\": \"\",\n        \"description\": \"\"\n      }\n    },\n    {\n      \"column\": \"name\",\n      \"properties\": {\n        \"dtype\": \"string\",\n        \"num_unique_values\": 460,\n        \"samples\": [\n          \"Taco Bell Kuwait\",\n          \"Nutella Cafe Chicago\",\n          \"Raymond Blanc\"\n        ],\n        \"semantic_type\": \"\",\n        \"description\": \"\"\n      }\n    },\n    {\n      \"column\": \"new_id\",\n      \"properties\": {\n        \"dtype\": \"string\",\n        \"num_unique_values\": 620,\n        \"samples\": [\n          \"329\",\n          \"371\",\n          \"304\"\n        ],\n        \"semantic_type\": \"\",\n        \"description\": \"\"\n      }\n    }\n  ]\n}"
            }
          },
          "metadata": {},
          "execution_count": 4
        }
      ]
    },
    {
      "cell_type": "code",
      "source": [
        "nodes_df.info()"
      ],
      "metadata": {
        "colab": {
          "base_uri": "https://localhost:8080/"
        },
        "id": "hvSa-Pw9qjV4",
        "outputId": "2aa07fc7-6c34-498b-a22d-4b199dd90745"
      },
      "id": "hvSa-Pw9qjV4",
      "execution_count": null,
      "outputs": [
        {
          "output_type": "stream",
          "name": "stdout",
          "text": [
            "<class 'pandas.core.frame.DataFrame'>\n",
            "RangeIndex: 620 entries, 0 to 619\n",
            "Data columns (total 3 columns):\n",
            " #   Column  Non-Null Count  Dtype \n",
            "---  ------  --------------  ----- \n",
            " 0   id      620 non-null    object\n",
            " 1   name    620 non-null    object\n",
            " 2   new_id  620 non-null    object\n",
            "dtypes: object(3)\n",
            "memory usage: 14.7+ KB\n"
          ]
        }
      ]
    },
    {
      "cell_type": "code",
      "source": [
        "edges_data"
      ],
      "metadata": {
        "colab": {
          "base_uri": "https://localhost:8080/"
        },
        "id": "NMxXUmOsqqeI",
        "outputId": "bf95d499-a447-4ce5-862e-a0df436bd7e2"
      },
      "id": "NMxXUmOsqqeI",
      "execution_count": null,
      "outputs": [
        {
          "output_type": "execute_result",
          "data": {
            "text/plain": [
              "array([['0', '276'],\n",
              "       ['0', '58'],\n",
              "       ['0', '132'],\n",
              "       ...,\n",
              "       ['601', '616'],\n",
              "       ['603', '616'],\n",
              "       ['311', '613']], dtype='<U3')"
            ]
          },
          "metadata": {},
          "execution_count": 6
        }
      ]
    },
    {
      "cell_type": "code",
      "source": [
        "nodes_df[nodes_df['new_id'] == '601']"
      ],
      "metadata": {
        "colab": {
          "base_uri": "https://localhost:8080/",
          "height": 81
        },
        "id": "TloJAfxyqVGz",
        "outputId": "06147503-571d-4619-baa3-c6e692822064"
      },
      "id": "TloJAfxyqVGz",
      "execution_count": null,
      "outputs": [
        {
          "output_type": "execute_result",
          "data": {
            "text/plain": [
              "                  id              name new_id\n",
              "117  258113974257610  Chef Marc Murphy    601"
            ],
            "text/html": [
              "\n",
              "  <div id=\"df-880e08f5-d14f-46c1-880f-8f32547ea534\" class=\"colab-df-container\">\n",
              "    <div>\n",
              "<style scoped>\n",
              "    .dataframe tbody tr th:only-of-type {\n",
              "        vertical-align: middle;\n",
              "    }\n",
              "\n",
              "    .dataframe tbody tr th {\n",
              "        vertical-align: top;\n",
              "    }\n",
              "\n",
              "    .dataframe thead th {\n",
              "        text-align: right;\n",
              "    }\n",
              "</style>\n",
              "<table border=\"1\" class=\"dataframe\">\n",
              "  <thead>\n",
              "    <tr style=\"text-align: right;\">\n",
              "      <th></th>\n",
              "      <th>id</th>\n",
              "      <th>name</th>\n",
              "      <th>new_id</th>\n",
              "    </tr>\n",
              "  </thead>\n",
              "  <tbody>\n",
              "    <tr>\n",
              "      <th>117</th>\n",
              "      <td>258113974257610</td>\n",
              "      <td>Chef Marc Murphy</td>\n",
              "      <td>601</td>\n",
              "    </tr>\n",
              "  </tbody>\n",
              "</table>\n",
              "</div>\n",
              "    <div class=\"colab-df-buttons\">\n",
              "\n",
              "  <div class=\"colab-df-container\">\n",
              "    <button class=\"colab-df-convert\" onclick=\"convertToInteractive('df-880e08f5-d14f-46c1-880f-8f32547ea534')\"\n",
              "            title=\"Convert this dataframe to an interactive table.\"\n",
              "            style=\"display:none;\">\n",
              "\n",
              "  <svg xmlns=\"http://www.w3.org/2000/svg\" height=\"24px\" viewBox=\"0 -960 960 960\">\n",
              "    <path d=\"M120-120v-720h720v720H120Zm60-500h600v-160H180v160Zm220 220h160v-160H400v160Zm0 220h160v-160H400v160ZM180-400h160v-160H180v160Zm440 0h160v-160H620v160ZM180-180h160v-160H180v160Zm440 0h160v-160H620v160Z\"/>\n",
              "  </svg>\n",
              "    </button>\n",
              "\n",
              "  <style>\n",
              "    .colab-df-container {\n",
              "      display:flex;\n",
              "      gap: 12px;\n",
              "    }\n",
              "\n",
              "    .colab-df-convert {\n",
              "      background-color: #E8F0FE;\n",
              "      border: none;\n",
              "      border-radius: 50%;\n",
              "      cursor: pointer;\n",
              "      display: none;\n",
              "      fill: #1967D2;\n",
              "      height: 32px;\n",
              "      padding: 0 0 0 0;\n",
              "      width: 32px;\n",
              "    }\n",
              "\n",
              "    .colab-df-convert:hover {\n",
              "      background-color: #E2EBFA;\n",
              "      box-shadow: 0px 1px 2px rgba(60, 64, 67, 0.3), 0px 1px 3px 1px rgba(60, 64, 67, 0.15);\n",
              "      fill: #174EA6;\n",
              "    }\n",
              "\n",
              "    .colab-df-buttons div {\n",
              "      margin-bottom: 4px;\n",
              "    }\n",
              "\n",
              "    [theme=dark] .colab-df-convert {\n",
              "      background-color: #3B4455;\n",
              "      fill: #D2E3FC;\n",
              "    }\n",
              "\n",
              "    [theme=dark] .colab-df-convert:hover {\n",
              "      background-color: #434B5C;\n",
              "      box-shadow: 0px 1px 3px 1px rgba(0, 0, 0, 0.15);\n",
              "      filter: drop-shadow(0px 1px 2px rgba(0, 0, 0, 0.3));\n",
              "      fill: #FFFFFF;\n",
              "    }\n",
              "  </style>\n",
              "\n",
              "    <script>\n",
              "      const buttonEl =\n",
              "        document.querySelector('#df-880e08f5-d14f-46c1-880f-8f32547ea534 button.colab-df-convert');\n",
              "      buttonEl.style.display =\n",
              "        google.colab.kernel.accessAllowed ? 'block' : 'none';\n",
              "\n",
              "      async function convertToInteractive(key) {\n",
              "        const element = document.querySelector('#df-880e08f5-d14f-46c1-880f-8f32547ea534');\n",
              "        const dataTable =\n",
              "          await google.colab.kernel.invokeFunction('convertToInteractive',\n",
              "                                                    [key], {});\n",
              "        if (!dataTable) return;\n",
              "\n",
              "        const docLinkHtml = 'Like what you see? Visit the ' +\n",
              "          '<a target=\"_blank\" href=https://colab.research.google.com/notebooks/data_table.ipynb>data table notebook</a>'\n",
              "          + ' to learn more about interactive tables.';\n",
              "        element.innerHTML = '';\n",
              "        dataTable['output_type'] = 'display_data';\n",
              "        await google.colab.output.renderOutput(dataTable, element);\n",
              "        const docLink = document.createElement('div');\n",
              "        docLink.innerHTML = docLinkHtml;\n",
              "        element.appendChild(docLink);\n",
              "      }\n",
              "    </script>\n",
              "  </div>\n",
              "\n",
              "    </div>\n",
              "  </div>\n"
            ],
            "application/vnd.google.colaboratory.intrinsic+json": {
              "type": "dataframe",
              "summary": "{\n  \"name\": \"nodes_df[nodes_df['new_id'] == '601']\",\n  \"rows\": 1,\n  \"fields\": [\n    {\n      \"column\": \"id\",\n      \"properties\": {\n        \"dtype\": \"string\",\n        \"num_unique_values\": 1,\n        \"samples\": [\n          \"258113974257610\"\n        ],\n        \"semantic_type\": \"\",\n        \"description\": \"\"\n      }\n    },\n    {\n      \"column\": \"name\",\n      \"properties\": {\n        \"dtype\": \"string\",\n        \"num_unique_values\": 1,\n        \"samples\": [\n          \"Chef Marc Murphy\"\n        ],\n        \"semantic_type\": \"\",\n        \"description\": \"\"\n      }\n    },\n    {\n      \"column\": \"new_id\",\n      \"properties\": {\n        \"dtype\": \"string\",\n        \"num_unique_values\": 1,\n        \"samples\": [\n          \"601\"\n        ],\n        \"semantic_type\": \"\",\n        \"description\": \"\"\n      }\n    }\n  ]\n}"
            }
          },
          "metadata": {},
          "execution_count": 7
        }
      ]
    },
    {
      "cell_type": "code",
      "source": [
        "G = nx.Graph()\n",
        "for i in range(len(nodes_df['name'])):\n",
        "    G.add_node(nodes_df['new_id'][i], name=nodes_df['name'][i])"
      ],
      "metadata": {
        "id": "gF2oup_wpO1d"
      },
      "id": "gF2oup_wpO1d",
      "execution_count": null,
      "outputs": []
    },
    {
      "cell_type": "code",
      "source": [
        "for i in edges_data:\n",
        "    G.add_edge(i[0],i[1])"
      ],
      "metadata": {
        "id": "8suDnv7WpO39"
      },
      "id": "8suDnv7WpO39",
      "execution_count": null,
      "outputs": []
    },
    {
      "cell_type": "code",
      "source": [
        "has_name_attr = all(\"name\" in G.nodes[node] for node in G.nodes)\n",
        "has_name_attr"
      ],
      "metadata": {
        "colab": {
          "base_uri": "https://localhost:8080/"
        },
        "id": "nsC_NxRiyMeS",
        "outputId": "075bef5b-ec7b-4277-d5be-bb555a62cd2f"
      },
      "id": "nsC_NxRiyMeS",
      "execution_count": null,
      "outputs": [
        {
          "output_type": "execute_result",
          "data": {
            "text/plain": [
              "True"
            ]
          },
          "metadata": {},
          "execution_count": 11
        }
      ]
    },
    {
      "cell_type": "code",
      "source": [
        "G.remove_edges_from(nx.selfloop_edges(G))"
      ],
      "metadata": {
        "id": "qNwW5d5gpPAd"
      },
      "id": "qNwW5d5gpPAd",
      "execution_count": null,
      "outputs": []
    },
    {
      "cell_type": "code",
      "source": [
        "adj_matrix = nx.adjacency_matrix(G).toarray()\n",
        "adj_matrix"
      ],
      "metadata": {
        "colab": {
          "base_uri": "https://localhost:8080/"
        },
        "id": "CsI2Y5MrwWKp",
        "outputId": "5f246eb8-3dd3-4c74-8d37-565a21ce413e"
      },
      "id": "CsI2Y5MrwWKp",
      "execution_count": null,
      "outputs": [
        {
          "output_type": "execute_result",
          "data": {
            "text/plain": [
              "array([[0, 0, 0, ..., 0, 0, 0],\n",
              "       [0, 0, 0, ..., 0, 0, 0],\n",
              "       [0, 0, 0, ..., 0, 0, 0],\n",
              "       ...,\n",
              "       [0, 0, 0, ..., 0, 0, 0],\n",
              "       [0, 0, 0, ..., 0, 0, 0],\n",
              "       [0, 0, 0, ..., 0, 0, 0]])"
            ]
          },
          "metadata": {},
          "execution_count": 13
        }
      ]
    },
    {
      "cell_type": "code",
      "source": [
        "adj_matrix.shape"
      ],
      "metadata": {
        "colab": {
          "base_uri": "https://localhost:8080/"
        },
        "id": "XUyccL8e97H6",
        "outputId": "82361861-6b67-495e-d31d-5c4a09bd461f"
      },
      "id": "XUyccL8e97H6",
      "execution_count": null,
      "outputs": [
        {
          "output_type": "execute_result",
          "data": {
            "text/plain": [
              "(620, 620)"
            ]
          },
          "metadata": {},
          "execution_count": 14
        }
      ]
    },
    {
      "cell_type": "code",
      "source": [
        "n_matrix = np.sum(adj_matrix, axis=1)"
      ],
      "metadata": {
        "id": "qQ5P2CDS4QE6"
      },
      "id": "qQ5P2CDS4QE6",
      "execution_count": null,
      "outputs": []
    },
    {
      "cell_type": "code",
      "source": [
        "max(n_matrix)"
      ],
      "metadata": {
        "colab": {
          "base_uri": "https://localhost:8080/"
        },
        "id": "4iVKBNGn6OzV",
        "outputId": "c504bbc1-70d9-48da-f113-7ebb1ccd237d"
      },
      "id": "4iVKBNGn6OzV",
      "execution_count": null,
      "outputs": [
        {
          "output_type": "execute_result",
          "data": {
            "text/plain": [
              "132"
            ]
          },
          "metadata": {},
          "execution_count": 16
        }
      ]
    },
    {
      "cell_type": "code",
      "source": [
        "nodes_df['new_id'][np.where(n_matrix == 132)[0].item()]"
      ],
      "metadata": {
        "colab": {
          "base_uri": "https://localhost:8080/",
          "height": 36
        },
        "id": "wzm2kooGGfPu",
        "outputId": "1c67a8f0-7c94-47b0-fcb2-011618ec5b87"
      },
      "id": "wzm2kooGGfPu",
      "execution_count": null,
      "outputs": [
        {
          "output_type": "execute_result",
          "data": {
            "text/plain": [
              "'265'"
            ],
            "application/vnd.google.colaboratory.intrinsic+json": {
              "type": "string"
            }
          },
          "metadata": {},
          "execution_count": 17
        }
      ]
    },
    {
      "cell_type": "code",
      "source": [
        "max_degree_node = nodes_df['new_id'][np.where(n_matrix == 132)[0].item()]\n",
        "max_degree = max(n_matrix)\n",
        "max_degree_name = G.nodes[max_degree_node][\"name\"]"
      ],
      "metadata": {
        "id": "lojr4r5G4q02"
      },
      "execution_count": null,
      "outputs": [],
      "id": "lojr4r5G4q02"
    },
    {
      "cell_type": "code",
      "source": [
        "print(\"Имя человека с максимальной степенью:\", max_degree_name)\n",
        "print(\"Максимальная степень:\", max_degree)"
      ],
      "metadata": {
        "colab": {
          "base_uri": "https://localhost:8080/"
        },
        "outputId": "740d09d6-b69b-47c2-a44f-e8d7dbb833ab",
        "id": "-50qOApZ4q08"
      },
      "execution_count": null,
      "outputs": [
        {
          "output_type": "stream",
          "name": "stdout",
          "text": [
            "Имя человека с максимальной степенью: Logan Junior Chef\n",
            "Максимальная степень: 132\n"
          ]
        }
      ],
      "id": "-50qOApZ4q08"
    },
    {
      "cell_type": "markdown",
      "id": "83e349d5-0e05-436b-9ecd-badbd2844fa4",
      "metadata": {
        "id": "83e349d5-0e05-436b-9ecd-badbd2844fa4"
      },
      "source": [
        "<p class=\"task\" id=\"2\"></p>\n",
        "\n",
        "2\\. Используя граф из предыдущего задания, посчитайте степени каждого узла, используя возможности графа `nx.Graph`. Посчитайте и выведите на экран среднюю степень узлов графа, округленную до ближайшего целого.\n",
        "\n",
        "- [ ] Проверено на семинаре"
      ]
    },
    {
      "cell_type": "code",
      "source": [
        "degrees = G.degree()"
      ],
      "metadata": {
        "id": "VzgTkIorwWM4"
      },
      "id": "VzgTkIorwWM4",
      "execution_count": 51,
      "outputs": []
    },
    {
      "cell_type": "code",
      "source": [
        "for node, degree in degrees:\n",
        "    print(f\"Узел {node}: степень {degree}\")"
      ],
      "metadata": {
        "colab": {
          "base_uri": "https://localhost:8080/"
        },
        "id": "FFY5ImM50RUi",
        "outputId": "9cf994d0-d746-4837-d331-40c07af93de5"
      },
      "id": "FFY5ImM50RUi",
      "execution_count": 52,
      "outputs": [
        {
          "output_type": "stream",
          "name": "stdout",
          "text": [
            "Узел 386: степень 7\n",
            "Узел 473: степень 7\n",
            "Узел 1: степень 2\n",
            "Узел 542: степень 1\n",
            "Узел 189: степень 5\n",
            "Узел 454: степень 4\n",
            "Узел 158: степень 9\n",
            "Узел 248: степень 25\n",
            "Узел 537: степень 2\n",
            "Узел 293: степень 4\n",
            "Узел 171: степень 5\n",
            "Узел 485: степень 10\n",
            "Узел 258: степень 7\n",
            "Узел 534: степень 1\n",
            "Узел 500: степень 2\n",
            "Узел 194: степень 3\n",
            "Узел 34: степень 6\n",
            "Узел 465: степень 16\n",
            "Узел 562: степень 1\n",
            "Узел 511: степень 1\n",
            "Узел 201: степень 1\n",
            "Узел 188: степень 1\n",
            "Узел 440: степень 5\n",
            "Узел 484: степень 3\n",
            "Узел 240: степень 10\n",
            "Узел 533: степень 2\n",
            "Узел 235: степень 15\n",
            "Узел 82: степень 6\n",
            "Узел 212: степень 6\n",
            "Узел 35: степень 22\n",
            "Узел 19: степень 1\n",
            "Узел 154: степень 12\n",
            "Узел 334: степень 13\n",
            "Узел 148: степень 5\n",
            "Узел 599: степень 8\n",
            "Узел 382: степень 4\n",
            "Узел 230: степень 13\n",
            "Узел 7: степень 7\n",
            "Узел 576: степень 17\n",
            "Узел 164: степень 22\n",
            "Узел 594: степень 2\n",
            "Узел 396: степень 1\n",
            "Узел 284: степень 2\n",
            "Узел 63: степень 10\n",
            "Узел 160: степень 2\n",
            "Узел 573: степень 1\n",
            "Узел 61: степень 1\n",
            "Узел 25: степень 1\n",
            "Узел 409: степень 1\n",
            "Узел 329: степень 12\n",
            "Узел 211: степень 1\n",
            "Узел 434: степень 22\n",
            "Узел 218: степень 1\n",
            "Узел 480: степень 3\n",
            "Узел 309: степень 1\n",
            "Узел 313: степень 4\n",
            "Узел 56: степень 47\n",
            "Узел 138: степень 3\n",
            "Узел 591: степень 5\n",
            "Узел 202: степень 8\n",
            "Узел 14: степень 2\n",
            "Узел 246: степень 2\n",
            "Узел 462: степень 1\n",
            "Узел 290: степень 6\n",
            "Узел 518: степень 59\n",
            "Узел 106: степень 3\n",
            "Узел 477: степень 1\n",
            "Узел 504: степень 3\n",
            "Узел 335: степень 6\n",
            "Узел 355: степень 8\n",
            "Узел 33: степень 2\n",
            "Узел 496: степень 1\n",
            "Узел 62: степень 11\n",
            "Узел 255: степень 1\n",
            "Узел 325: степень 5\n",
            "Узел 276: степень 9\n",
            "Узел 153: степень 1\n",
            "Узел 362: степень 3\n",
            "Узел 10: степень 2\n",
            "Узел 460: степень 6\n",
            "Узел 282: степень 10\n",
            "Узел 567: степень 3\n",
            "Узел 304: степень 1\n",
            "Узел 5: степень 1\n",
            "Узел 339: степень 4\n",
            "Узел 21: степень 4\n",
            "Узел 320: степень 3\n",
            "Узел 464: степень 1\n",
            "Узел 51: степень 1\n",
            "Узел 156: степень 1\n",
            "Узел 149: степень 5\n",
            "Узел 155: степень 8\n",
            "Узел 505: степень 35\n",
            "Узел 209: степень 2\n",
            "Узел 236: степень 1\n",
            "Узел 324: степень 9\n",
            "Узел 527: степень 7\n",
            "Узел 78: степень 9\n",
            "Узел 226: степень 3\n",
            "Узел 433: степень 3\n",
            "Узел 170: степень 3\n",
            "Узел 468: степень 1\n",
            "Узел 472: степень 2\n",
            "Узел 387: степень 3\n",
            "Узел 392: степень 3\n",
            "Узел 193: степень 9\n",
            "Узел 544: степень 3\n",
            "Узел 9: степень 28\n",
            "Узел 308: степень 2\n",
            "Узел 370: степень 1\n",
            "Узел 344: степень 2\n",
            "Узел 144: степень 5\n",
            "Узел 588: степень 2\n",
            "Узел 463: степень 3\n",
            "Узел 521: степень 5\n",
            "Узел 165: степень 5\n",
            "Узел 215: степень 4\n",
            "Узел 601: степень 22\n",
            "Узел 481: степень 1\n",
            "Узел 358: степень 4\n",
            "Узел 204: степень 2\n",
            "Узел 270: степень 3\n",
            "Узел 11: степень 6\n",
            "Узел 606: степень 1\n",
            "Узел 42: степень 1\n",
            "Узел 366: степень 1\n",
            "Узел 150: степень 6\n",
            "Узел 322: степень 2\n",
            "Узел 379: степень 2\n",
            "Узел 608: степень 7\n",
            "Узел 579: степень 3\n",
            "Узел 424: степень 9\n",
            "Узел 429: степень 7\n",
            "Узел 105: степень 2\n",
            "Узел 242: степень 9\n",
            "Узел 416: степень 4\n",
            "Узел 220: степень 7\n",
            "Узел 535: степень 6\n",
            "Узел 337: степень 2\n",
            "Узел 0: степень 6\n",
            "Узел 30: степень 1\n",
            "Узел 213: степень 1\n",
            "Узел 207: степень 1\n",
            "Узел 532: степень 2\n",
            "Узел 234: степень 1\n",
            "Узел 615: степень 3\n",
            "Узел 350: степень 24\n",
            "Узел 169: степень 8\n",
            "Узел 159: степень 7\n",
            "Узел 456: степень 7\n",
            "Узел 342: степень 9\n",
            "Узел 555: степень 17\n",
            "Узел 491: степень 15\n",
            "Узел 48: степень 5\n",
            "Узел 593: степень 14\n",
            "Узел 497: степень 3\n",
            "Узел 450: степень 7\n",
            "Узел 486: степень 3\n",
            "Узел 85: степень 5\n",
            "Узел 572: степень 5\n",
            "Узел 482: степень 1\n",
            "Узел 525: степень 3\n",
            "Узел 488: степень 6\n",
            "Узел 361: степень 7\n",
            "Узел 286: степень 2\n",
            "Узел 299: степень 11\n",
            "Узел 517: степень 5\n",
            "Узел 458: степень 10\n",
            "Узел 70: степень 47\n",
            "Узел 46: степень 7\n",
            "Узел 333: степень 3\n",
            "Узел 257: степень 6\n",
            "Узел 443: степень 2\n",
            "Узел 417: степень 2\n",
            "Узел 237: степень 11\n",
            "Узел 412: степень 2\n",
            "Узел 128: степень 16\n",
            "Узел 327: степень 4\n",
            "Узел 548: степень 5\n",
            "Узел 609: степень 3\n",
            "Узел 612: степень 4\n",
            "Узел 6: степень 5\n",
            "Узел 146: степень 9\n",
            "Узел 582: степень 1\n",
            "Узел 523: степень 2\n",
            "Узел 208: степень 10\n",
            "Узел 3: степень 10\n",
            "Узел 179: степень 12\n",
            "Узел 173: степень 1\n",
            "Узел 312: степень 2\n",
            "Узел 263: степень 2\n",
            "Узел 498: степень 33\n",
            "Узел 108: степень 5\n",
            "Узел 241: степень 3\n",
            "Узел 561: степень 1\n",
            "Узел 549: степень 2\n",
            "Узел 254: степень 17\n",
            "Узел 418: степень 5\n",
            "Узел 121: степень 5\n",
            "Узел 288: степень 37\n",
            "Узел 116: степень 22\n",
            "Узел 53: степень 1\n",
            "Узел 196: степень 1\n",
            "Узел 107: степень 12\n",
            "Узел 187: степень 6\n",
            "Узел 502: степень 7\n",
            "Узел 90: степень 51\n",
            "Узел 604: степень 2\n",
            "Узел 66: степень 1\n",
            "Узел 281: степень 2\n",
            "Узел 421: степень 6\n",
            "Узел 296: степень 1\n",
            "Узел 376: степень 1\n",
            "Узел 305: степень 4\n",
            "Узел 40: степень 7\n",
            "Узел 436: степень 9\n",
            "Узел 439: степень 10\n",
            "Узел 605: степень 5\n",
            "Узел 23: степень 14\n",
            "Узел 275: степень 10\n",
            "Узел 467: степень 4\n",
            "Узел 461: степень 3\n",
            "Узел 551: степень 1\n",
            "Узел 584: степень 15\n",
            "Узел 87: степень 30\n",
            "Узел 552: степень 4\n",
            "Узел 253: степень 16\n",
            "Узел 474: степень 4\n",
            "Узел 45: степень 6\n",
            "Узел 268: степень 2\n",
            "Узел 279: степень 3\n",
            "Узел 197: степень 1\n",
            "Узел 401: степень 1\n",
            "Узел 185: степень 9\n",
            "Узел 80: степень 1\n",
            "Узел 402: степень 1\n",
            "Узел 302: степень 3\n",
            "Узел 332: степень 1\n",
            "Узел 557: степень 5\n",
            "Узел 166: степень 5\n",
            "Узел 323: степень 12\n",
            "Узел 388: степень 3\n",
            "Узел 145: степень 6\n",
            "Узел 540: степень 3\n",
            "Узел 250: степень 3\n",
            "Узел 96: степень 3\n",
            "Узел 373: степень 3\n",
            "Узел 123: степень 6\n",
            "Узел 437: степень 8\n",
            "Узел 219: степень 1\n",
            "Узел 613: степень 16\n",
            "Узел 575: степень 2\n",
            "Узел 510: степень 6\n",
            "Узел 559: степень 4\n",
            "Узел 581: степень 8\n",
            "Узел 423: степень 2\n",
            "Узел 610: степень 2\n",
            "Узел 152: степень 8\n",
            "Узел 413: степень 4\n",
            "Узел 205: степень 1\n",
            "Узел 380: степень 6\n",
            "Узел 272: степень 1\n",
            "Узел 142: степень 7\n",
            "Узел 269: степень 8\n",
            "Узел 289: степень 26\n",
            "Узел 65: степень 8\n",
            "Узел 364: степень 7\n",
            "Узел 345: степень 11\n",
            "Узел 102: степень 8\n",
            "Узел 519: степень 2\n",
            "Узел 363: степень 9\n",
            "Узел 614: степень 1\n",
            "Узел 317: степень 32\n",
            "Узел 563: степень 13\n",
            "Узел 104: степень 6\n",
            "Узел 586: степень 1\n",
            "Узел 611: степень 47\n",
            "Узел 180: степень 4\n",
            "Узел 479: степень 7\n",
            "Узел 28: степень 3\n",
            "Узел 515: степень 6\n",
            "Узел 84: степень 3\n",
            "Узел 68: степень 10\n",
            "Узел 112: степень 2\n",
            "Узел 556: степень 1\n",
            "Узел 264: степень 12\n",
            "Узел 550: степень 21\n",
            "Узел 587: степень 4\n",
            "Узел 210: степень 8\n",
            "Узел 297: степень 2\n",
            "Узел 251: степень 4\n",
            "Узел 266: степень 2\n",
            "Узел 217: степень 31\n",
            "Узел 499: степень 3\n",
            "Узел 487: степень 2\n",
            "Узел 26: степень 1\n",
            "Узел 326: степень 1\n",
            "Узел 569: степень 3\n",
            "Узел 301: степень 1\n",
            "Узел 127: степень 4\n",
            "Узел 359: степень 3\n",
            "Узел 603: степень 27\n",
            "Узел 321: степень 5\n",
            "Узел 598: степень 5\n",
            "Узел 565: степень 2\n",
            "Узел 618: степень 6\n",
            "Узел 59: степень 2\n",
            "Узел 574: степень 2\n",
            "Узел 524: степень 29\n",
            "Узел 88: степень 6\n",
            "Узел 285: степень 4\n",
            "Узел 73: степень 2\n",
            "Узел 110: степень 2\n",
            "Узел 391: степень 1\n",
            "Узел 426: степень 4\n",
            "Узел 64: степень 1\n",
            "Узел 357: степень 26\n",
            "Узел 190: степень 1\n",
            "Узел 589: степень 2\n",
            "Узел 75: степень 9\n",
            "Узел 617: степень 3\n",
            "Узел 566: степень 4\n",
            "Узел 129: степень 2\n",
            "Узел 55: степень 8\n",
            "Узел 4: степень 4\n",
            "Узел 394: степень 1\n",
            "Узел 571: степень 4\n",
            "Узел 451: степень 7\n",
            "Узел 446: степень 20\n",
            "Узел 547: степень 9\n",
            "Узел 315: степень 4\n",
            "Узел 508: степень 8\n",
            "Узел 607: степень 1\n",
            "Узел 348: степень 2\n",
            "Узел 597: степень 23\n",
            "Узел 341: степень 2\n",
            "Узел 267: степень 1\n",
            "Узел 198: степень 29\n",
            "Узел 17: степень 5\n",
            "Узел 244: степень 8\n",
            "Узел 595: степень 6\n",
            "Узел 438: степень 3\n",
            "Узел 191: степень 3\n",
            "Узел 459: степень 8\n",
            "Узел 15: степень 10\n",
            "Узел 408: степень 5\n",
            "Узел 167: степень 1\n",
            "Узел 141: степень 5\n",
            "Узел 513: степень 1\n",
            "Узел 93: степень 5\n",
            "Узел 228: степень 2\n",
            "Узел 216: степень 5\n",
            "Узел 239: степень 1\n",
            "Узел 509: степень 3\n",
            "Узел 395: степень 4\n",
            "Узел 184: степень 6\n",
            "Узел 91: степень 2\n",
            "Узел 430: степень 2\n",
            "Узел 478: степень 10\n",
            "Узел 122: степень 3\n",
            "Узел 351: степень 11\n",
            "Узел 407: степень 2\n",
            "Узел 113: степень 10\n",
            "Узел 120: степень 2\n",
            "Узел 29: степень 1\n",
            "Узел 400: степень 12\n",
            "Узел 445: степень 5\n",
            "Узел 200: степень 1\n",
            "Узел 300: степень 8\n",
            "Узел 83: степень 7\n",
            "Узел 2: степень 3\n",
            "Узел 119: степень 12\n",
            "Узел 506: степень 1\n",
            "Узел 225: степень 7\n",
            "Узел 60: степень 6\n",
            "Узел 514: степень 1\n",
            "Узел 182: степень 31\n",
            "Узел 368: степень 8\n",
            "Узел 118: степень 4\n",
            "Узел 490: степень 2\n",
            "Узел 369: степень 4\n",
            "Узел 331: степень 3\n",
            "Узел 238: степень 13\n",
            "Узел 206: степень 3\n",
            "Узел 546: степень 7\n",
            "Узел 294: степень 1\n",
            "Узел 101: степень 7\n",
            "Узел 58: степень 15\n",
            "Узел 175: степень 5\n",
            "Узел 596: степень 8\n",
            "Узел 277: степень 2\n",
            "Узел 406: степень 1\n",
            "Узел 233: степень 1\n",
            "Узел 135: степень 12\n",
            "Узел 245: степень 15\n",
            "Узел 143: степень 13\n",
            "Узел 600: степень 1\n",
            "Узел 287: степень 2\n",
            "Узел 466: степень 8\n",
            "Узел 536: степень 10\n",
            "Узел 383: степень 9\n",
            "Узел 427: степень 5\n",
            "Узел 130: степень 10\n",
            "Узел 16: степень 12\n",
            "Узел 109: степень 4\n",
            "Узел 89: степень 43\n",
            "Узел 232: степень 5\n",
            "Узел 560: степень 1\n",
            "Узел 192: степень 2\n",
            "Узел 172: степень 5\n",
            "Узел 470: степень 4\n",
            "Узел 316: степень 2\n",
            "Узел 328: степень 6\n",
            "Узел 133: степень 2\n",
            "Узел 151: степень 21\n",
            "Узел 390: степень 1\n",
            "Узел 475: степень 1\n",
            "Узел 384: степень 1\n",
            "Узел 347: степень 7\n",
            "Узел 81: степень 2\n",
            "Узел 178: степень 2\n",
            "Узел 619: степень 5\n",
            "Узел 367: степень 1\n",
            "Узел 221: степень 2\n",
            "Узел 330: степень 2\n",
            "Узел 195: степень 14\n",
            "Узел 69: степень 3\n",
            "Узел 385: степень 6\n",
            "Узел 131: степень 26\n",
            "Узел 100: степень 1\n",
            "Узел 222: степень 4\n",
            "Узел 378: степень 1\n",
            "Узел 522: степень 11\n",
            "Узел 558: степень 13\n",
            "Узел 74: степень 1\n",
            "Узел 249: степень 5\n",
            "Узел 471: степень 2\n",
            "Узел 147: степень 11\n",
            "Узел 260: степень 4\n",
            "Узел 507: степень 6\n",
            "Узел 259: степень 5\n",
            "Узел 98: степень 7\n",
            "Узел 132: степень 2\n",
            "Узел 77: степень 1\n",
            "Узел 111: степень 4\n",
            "Узел 13: степень 1\n",
            "Узел 397: степень 12\n",
            "Узел 41: степень 13\n",
            "Узел 592: степень 1\n",
            "Узел 415: степень 1\n",
            "Узел 318: степень 3\n",
            "Узел 161: степень 1\n",
            "Узел 372: степень 16\n",
            "Узел 493: степень 1\n",
            "Узел 307: степень 6\n",
            "Узел 455: степень 2\n",
            "Узел 262: степень 3\n",
            "Узел 432: степень 15\n",
            "Узел 585: степень 4\n",
            "Узел 399: степень 2\n",
            "Узел 177: степень 3\n",
            "Узел 545: степень 22\n",
            "Узел 39: степень 6\n",
            "Узел 420: степень 3\n",
            "Узел 377: степень 10\n",
            "Узел 229: степень 31\n",
            "Узел 223: степень 7\n",
            "Узел 441: степень 10\n",
            "Узел 38: степень 1\n",
            "Узел 512: степень 1\n",
            "Узел 590: степень 1\n",
            "Узел 553: степень 2\n",
            "Узел 256: степень 3\n",
            "Узел 530: степень 2\n",
            "Узел 442: степень 3\n",
            "Узел 32: степень 8\n",
            "Узел 50: степень 14\n",
            "Узел 36: степень 1\n",
            "Узел 271: степень 3\n",
            "Узел 526: степень 17\n",
            "Узел 314: степень 1\n",
            "Узел 353: степень 4\n",
            "Узел 243: степень 4\n",
            "Узел 298: степень 3\n",
            "Узел 27: степень 1\n",
            "Узел 44: степень 1\n",
            "Узел 457: степень 2\n",
            "Узел 422: степень 2\n",
            "Узел 531: степень 5\n",
            "Узел 564: степень 1\n",
            "Узел 227: степень 15\n",
            "Узел 37: степень 1\n",
            "Узел 577: степень 9\n",
            "Узел 398: степень 9\n",
            "Узел 54: степень 5\n",
            "Узел 124: степень 4\n",
            "Узел 602: степень 3\n",
            "Узел 12: степень 3\n",
            "Узел 181: степень 15\n",
            "Узел 338: степень 7\n",
            "Узел 389: степень 30\n",
            "Узел 203: степень 2\n",
            "Узел 528: степень 1\n",
            "Узел 346: степень 2\n",
            "Узел 410: степень 3\n",
            "Узел 352: степень 19\n",
            "Узел 76: степень 1\n",
            "Узел 265: степень 132\n",
            "Узел 516: степень 13\n",
            "Узел 186: степень 4\n",
            "Узел 8: степень 5\n",
            "Узел 31: степень 25\n",
            "Узел 280: степень 1\n",
            "Узел 306: степень 3\n",
            "Узел 580: степень 8\n",
            "Узел 319: степень 8\n",
            "Узел 79: степень 8\n",
            "Узел 538: степень 6\n",
            "Узел 18: степень 1\n",
            "Узел 476: степень 4\n",
            "Узел 52: степень 2\n",
            "Узел 214: степень 7\n",
            "Узел 543: степень 6\n",
            "Узел 291: степень 4\n",
            "Узел 356: степень 3\n",
            "Узел 231: степень 1\n",
            "Узел 452: степень 8\n",
            "Узел 349: степень 1\n",
            "Узел 274: степень 12\n",
            "Узел 568: степень 3\n",
            "Узел 199: степень 3\n",
            "Узел 360: степень 10\n",
            "Узел 117: степень 13\n",
            "Узел 174: степень 7\n",
            "Узел 20: степень 6\n",
            "Узел 247: степень 1\n",
            "Узел 405: степень 2\n",
            "Узел 501: степень 9\n",
            "Узел 340: степень 55\n",
            "Узел 449: степень 11\n",
            "Узел 365: степень 5\n",
            "Узел 183: степень 7\n",
            "Узел 425: степень 2\n",
            "Узел 435: степень 2\n",
            "Узел 43: степень 12\n",
            "Узел 95: степень 2\n",
            "Узел 136: степень 14\n",
            "Узел 134: степень 7\n",
            "Узел 94: степень 2\n",
            "Узел 295: степень 1\n",
            "Узел 303: степень 3\n",
            "Узел 99: степень 4\n",
            "Узел 310: степень 1\n",
            "Узел 483: степень 3\n",
            "Узел 24: степень 6\n",
            "Узел 137: степень 5\n",
            "Узел 176: степень 8\n",
            "Узел 393: степень 4\n",
            "Узел 495: степень 3\n",
            "Узел 343: степень 23\n",
            "Узел 489: степень 1\n",
            "Узел 375: степень 9\n",
            "Узел 92: степень 1\n",
            "Узел 47: степень 3\n",
            "Узел 447: степень 2\n",
            "Узел 414: степень 4\n",
            "Узел 22: степень 4\n",
            "Узел 570: степень 14\n",
            "Узел 283: степень 1\n",
            "Узел 125: степень 3\n",
            "Узел 292: степень 9\n",
            "Узел 72: степень 3\n",
            "Узел 404: степень 14\n",
            "Узел 539: степень 3\n",
            "Узел 273: степень 1\n",
            "Узел 616: степень 23\n",
            "Узел 448: степень 8\n",
            "Узел 354: степень 4\n",
            "Узел 126: степень 4\n",
            "Узел 469: степень 8\n",
            "Узел 453: степень 2\n",
            "Узел 503: степень 2\n",
            "Узел 139: степень 2\n",
            "Узел 444: степень 3\n",
            "Узел 371: степень 2\n",
            "Узел 583: степень 4\n",
            "Узел 311: степень 13\n",
            "Узел 224: степень 15\n",
            "Узел 71: степень 3\n",
            "Узел 57: степень 2\n",
            "Узел 403: степень 4\n",
            "Узел 431: степень 2\n",
            "Узел 411: степень 1\n",
            "Узел 49: степень 6\n",
            "Узел 492: степень 1\n",
            "Узел 115: степень 2\n",
            "Узел 374: степень 22\n",
            "Узел 162: степень 3\n",
            "Узел 86: степень 2\n",
            "Узел 419: степень 11\n",
            "Узел 252: степень 8\n",
            "Узел 541: степень 1\n",
            "Узел 336: степень 2\n",
            "Узел 529: степень 3\n",
            "Узел 103: степень 3\n",
            "Узел 278: степень 2\n",
            "Узел 67: степень 56\n",
            "Узел 520: степень 1\n",
            "Узел 168: степень 1\n",
            "Узел 97: степень 1\n",
            "Узел 578: степень 10\n",
            "Узел 428: степень 1\n",
            "Узел 261: степень 5\n",
            "Узел 494: степень 12\n",
            "Узел 554: степень 5\n",
            "Узел 163: степень 6\n",
            "Узел 381: степень 1\n",
            "Узел 140: степень 2\n",
            "Узел 157: степень 10\n",
            "Узел 114: степень 8\n"
          ]
        }
      ]
    },
    {
      "cell_type": "code",
      "source": [
        "average_degree = sum(dict(degrees).values()) / len(G)\n",
        "print(f\"Средняя степень узлов графа: {round(average_degree)}\")"
      ],
      "metadata": {
        "colab": {
          "base_uri": "https://localhost:8080/"
        },
        "id": "cDxyzs-I0RYL",
        "outputId": "55858f6d-bbfb-4a3a-deb4-33e3ef6f6e05"
      },
      "id": "cDxyzs-I0RYL",
      "execution_count": 53,
      "outputs": [
        {
          "output_type": "stream",
          "name": "stdout",
          "text": [
            "Средняя степень узлов графа: 7\n"
          ]
        }
      ]
    },
    {
      "cell_type": "markdown",
      "id": "3f67390e",
      "metadata": {
        "id": "3f67390e"
      },
      "source": [
        "<p class=\"task\" id=\"3\"></p>\n",
        "\n",
        "3\\. Создайте ориентированный граф на основе набора данных `fb-pages-food` с сайта https://networkrepository.com/. Удалите из графа все петли. Получите матрицу смежности графа и посчитайте входящую и исходящую степень каждого узла на основе этой матрицы. Найдите и выведите на экран максимальное значение исходящих степеней и среднее значение входящих степеней.\n",
        "\n",
        "- [ ] Проверено на семинаре"
      ]
    },
    {
      "cell_type": "code",
      "source": [
        "G = nx.DiGraph()\n",
        "for i in range(len(nodes_df['name'])):\n",
        "    G.add_node(nodes_df['new_id'][i], name=nodes_df['name'][i])"
      ],
      "metadata": {
        "id": "9LQ58oTOG7cq"
      },
      "id": "9LQ58oTOG7cq",
      "execution_count": null,
      "outputs": []
    },
    {
      "cell_type": "code",
      "source": [
        "for i in edges_data:\n",
        "    G.add_edge(i[0],i[1])"
      ],
      "metadata": {
        "id": "otTNB4MGMUQN"
      },
      "execution_count": null,
      "outputs": [],
      "id": "otTNB4MGMUQN"
    },
    {
      "cell_type": "code",
      "source": [
        "G.remove_edges_from(nx.selfloop_edges(G))"
      ],
      "metadata": {
        "id": "PDmAvv0dMUQO"
      },
      "execution_count": null,
      "outputs": [],
      "id": "PDmAvv0dMUQO"
    },
    {
      "cell_type": "code",
      "source": [
        "adj_matrix = nx.adjacency_matrix(G).toarray()\n",
        "adj_matrix"
      ],
      "metadata": {
        "colab": {
          "base_uri": "https://localhost:8080/"
        },
        "outputId": "b15bddc0-bbb4-45b1-8200-407b7d205a94",
        "id": "01bzYmcrMUQO"
      },
      "execution_count": null,
      "outputs": [
        {
          "output_type": "execute_result",
          "data": {
            "text/plain": [
              "array([[0, 0, 0, ..., 0, 0, 0],\n",
              "       [0, 0, 0, ..., 0, 0, 0],\n",
              "       [0, 0, 0, ..., 0, 0, 0],\n",
              "       ...,\n",
              "       [0, 0, 0, ..., 0, 0, 0],\n",
              "       [0, 0, 0, ..., 0, 0, 0],\n",
              "       [0, 0, 0, ..., 0, 0, 0]])"
            ]
          },
          "metadata": {},
          "execution_count": 34
        }
      ],
      "id": "01bzYmcrMUQO"
    },
    {
      "cell_type": "code",
      "source": [
        "in_degrees = adj_matrix.sum(axis=0)\n",
        "out_degrees = adj_matrix.sum(axis=1)"
      ],
      "metadata": {
        "id": "WkERpy7CG7fK"
      },
      "id": "WkERpy7CG7fK",
      "execution_count": null,
      "outputs": []
    },
    {
      "cell_type": "code",
      "source": [
        "max_out_degree = max(out_degrees)\n",
        "avg_in_degree = in_degrees.mean()\n",
        "print(\"Максимальное значение исходящих степеней:\", max_out_degree)\n",
        "print(\"Среднее значение входящих степеней:\", avg_in_degree)"
      ],
      "metadata": {
        "colab": {
          "base_uri": "https://localhost:8080/"
        },
        "id": "myZPuyH_G9Np",
        "outputId": "e2719c43-8ac1-40a5-9d56-208e55da03f2"
      },
      "id": "myZPuyH_G9Np",
      "execution_count": null,
      "outputs": [
        {
          "output_type": "stream",
          "name": "stdout",
          "text": [
            "Максимальное значение исходящих степеней: 67\n",
            "Среднее значение входящих степеней: 3.3725806451612903\n"
          ]
        }
      ]
    },
    {
      "cell_type": "markdown",
      "id": "1ddf9392-8ee3-45c2-b462-f2f8a9ceb9ca",
      "metadata": {
        "id": "1ddf9392-8ee3-45c2-b462-f2f8a9ceb9ca"
      },
      "source": [
        "<p class=\"task\" id=\"4\"></p>\n",
        "\n",
        "4\\. Постройте графики выборочной функции распределения входящих и исходящих степеней узлов для загруженного ориентированного графа. Для нахождения степеней узлов воспользуйтесь возможностями графа `nx.DiGraph`. Добавьте графикам названия, а осям - подписи. Расположите графики рядом по горизонтали.\n",
        "\n",
        "- [ ] Проверено на семинаре"
      ]
    },
    {
      "cell_type": "code",
      "source": [
        "in_degrees = [G.in_degree(node) for node in G.nodes()]\n",
        "out_degrees = [G.out_degree(node) for node in G.nodes()]"
      ],
      "metadata": {
        "id": "LiickivxG8mK"
      },
      "id": "LiickivxG8mK",
      "execution_count": 54,
      "outputs": []
    },
    {
      "cell_type": "code",
      "source": [
        "fig, (ax1, ax2) = plt.subplots(1, 2, figsize=(16, 5))\n",
        "\n",
        "ax1.hist(in_degrees, bins=10)\n",
        "ax1.set_title(\"Выборочная функция распределения входящих степеней узлов\")\n",
        "ax1.set_xlabel(\"Входящая степень узла\")\n",
        "ax1.set_ylabel(\"Вероятность\")\n",
        "\n",
        "ax2.hist(out_degrees, bins=10)\n",
        "ax2.set_title(\"Выборочная функция распределения исходящих степеней узлов\")\n",
        "ax2.set_xlabel(\"Исходящая степень узла\")\n",
        "ax2.set_ylabel(\"Вероятность\")\n",
        "\n",
        "plt.tight_layout()\n",
        "plt.show()"
      ],
      "metadata": {
        "id": "VLIhJIIWG8oT",
        "colab": {
          "base_uri": "https://localhost:8080/",
          "height": 507
        },
        "outputId": "e22be00d-8e0e-4845-8bfb-34e744d43d77"
      },
      "id": "VLIhJIIWG8oT",
      "execution_count": 57,
      "outputs": [
        {
          "output_type": "display_data",
          "data": {
            "text/plain": [
              "<Figure size 1600x500 with 2 Axes>"
            ],
            "image/png": "[encoded data removed]"
          },
          "metadata": {}
        }
      ]
    },
    {
      "cell_type": "markdown",
      "id": "dd85a863-f864-4b7f-b88c-f96c469cbd3c",
      "metadata": {
        "id": "dd85a863-f864-4b7f-b88c-f96c469cbd3c"
      },
      "source": [
        "<p class=\"task\" id=\"5\"></p>\n",
        "\n",
        "5\\. Визуализируйте закон распределения степеней узлов в обычной и логарифимических (по 1й и по 2м осям) системах координат для неориентированного графа. Расположите графики в виде сетки 2х2. Добавьте графикам названия, а осям - подписи.\n",
        "\n",
        "- [ ] Проверено на семинаре"
      ]
    },
    {
      "cell_type": "code",
      "source": [
        "G = nx.Graph()\n",
        "for i in range(len(nodes_df['name'])):\n",
        "    G.add_node(nodes_df['new_id'][i], name=nodes_df['name'][i])"
      ],
      "metadata": {
        "id": "BTWUTesT17nz"
      },
      "execution_count": 58,
      "outputs": [],
      "id": "BTWUTesT17nz"
    },
    {
      "cell_type": "code",
      "source": [
        "for i in edges_data:\n",
        "    G.add_edge(i[0],i[1])"
      ],
      "metadata": {
        "id": "6BHAculW17oE"
      },
      "execution_count": 59,
      "outputs": [],
      "id": "6BHAculW17oE"
    },
    {
      "cell_type": "code",
      "source": [
        "has_name_attr = all(\"name\" in G.nodes[node] for node in G.nodes)\n",
        "has_name_attr"
      ],
      "metadata": {
        "colab": {
          "base_uri": "https://localhost:8080/"
        },
        "outputId": "aa5e0cc6-425a-4e6f-d992-5c333af7b778",
        "id": "KjPh-EOG17oF"
      },
      "execution_count": 60,
      "outputs": [
        {
          "output_type": "execute_result",
          "data": {
            "text/plain": [
              "True"
            ]
          },
          "metadata": {},
          "execution_count": 60
        }
      ],
      "id": "KjPh-EOG17oF"
    },
    {
      "cell_type": "code",
      "source": [
        "G.remove_edges_from(nx.selfloop_edges(G))"
      ],
      "metadata": {
        "id": "DZWj4f-z17oG"
      },
      "execution_count": 61,
      "outputs": [],
      "id": "DZWj4f-z17oG"
    },
    {
      "cell_type": "code",
      "source": [
        "degrees = [G.degree(node) for node in G.nodes()]"
      ],
      "metadata": {
        "id": "VpQGRYVMRz2a"
      },
      "id": "VpQGRYVMRz2a",
      "execution_count": 62,
      "outputs": []
    },
    {
      "cell_type": "code",
      "source": [
        "fig, axs = plt.subplots(2, 2, figsize=(16, 10))\n",
        "\n",
        "axs[0, 0].hist(degrees, bins=10)\n",
        "axs[0, 0].set_title(\"Закон распределения степеней узлов (обычная система координат)\")\n",
        "axs[0, 0].set_xlabel(\"Степень узла\")\n",
        "axs[0, 0].set_ylabel(\"Частота\")\n",
        "\n",
        "axs[0, 1].hist(degrees, bins=10, log=True)\n",
        "axs[0, 1].set_title(\"Закон распределения степеней узлов (логарифмическая система координат по оси x)\")\n",
        "axs[0, 1].set_xlabel(\"Степень узла\")\n",
        "axs[0, 1].set_ylabel(\"Частота (логарифмическая)\")\n",
        "\n",
        "axs[1, 0].hist(degrees, bins=10, log=True)\n",
        "axs[1, 0].set_title(\"Закон распределения степеней узлов (логарифмическая система координат по обеим осям)\")\n",
        "axs[1, 0].set_xlabel(\"Степень узла (логарифмическая)\")\n",
        "axs[1, 0].set_ylabel(\"Частота (логарифмическая)\")\n",
        "\n",
        "fig.delaxes(axs[1, 1])\n",
        "\n",
        "plt.tight_layout()\n",
        "\n",
        "plt.show()"
      ],
      "metadata": {
        "colab": {
          "base_uri": "https://localhost:8080/",
          "height": 1000
        },
        "id": "m14D7b4nRz5T",
        "outputId": "414bf3aa-69f4-448b-86a4-54d180f0ab31"
      },
      "id": "m14D7b4nRz5T",
      "execution_count": 63,
      "outputs": [
        {
          "output_type": "display_data",
          "data": {
            "text/plain": [
              "<Figure size 1600x1000 with 3 Axes>"
            ],
            "image/png": "[encoded data removed]"
          },
          "metadata": {}
        }
      ]
    }
  ],
  "metadata": {
    "kernelspec": {
      "display_name": "Python 3 (ipykernel)",
      "language": "python",
      "name": "python3"
    },
    "language_info": {
      "codemirror_mode": {
        "name": "ipython",
        "version": 3
      },
      "file_extension": ".py",
      "mimetype": "text/x-python",
      "name": "python",
      "nbconvert_exporter": "python",
      "pygments_lexer": "ipython3",
      "version": "3.10.0"
    },
    "colab": {
      "provenance": []
    }
  },
  "nbformat": 4,
  "nbformat_minor": 5
}