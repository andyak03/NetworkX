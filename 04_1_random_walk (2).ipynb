{
  "cells": [
    {
      "cell_type": "markdown",
      "id": "29eedd06-4cd6-41fc-aa4e-569dd4f521bd",
      "metadata": {
        "id": "29eedd06-4cd6-41fc-aa4e-569dd4f521bd"
      },
      "source": [
        "# Случайное блуждание"
      ]
    },
    {
      "cell_type": "markdown",
      "id": "f6b687e9-05ef-4908-8bde-2b5dbbe576b6",
      "metadata": {
        "id": "f6b687e9-05ef-4908-8bde-2b5dbbe576b6"
      },
      "source": [
        "__Автор задач: Блохин Н.В. (NVBlokhin@fa.ru)__\n",
        "\n",
        "Материалы:\n",
        "* Макрушин С.В. \"Лекция 5: Случайные блуждания на графах\"\n",
        "* Документация:\n",
        "    * https://networkx.org/documentation/stable/reference/generated/networkx.generators.social.karate_club_graph.html\n",
        "    * https://numpy.org/doc/stable/reference/generated/numpy.diag.html\n",
        "    * https://numpy.org/doc/stable/reference/generated/numpy.linalg.norm.html\n",
        "    * https://numpy.org/doc/stable/reference/generated/numpy.linalg.matrix_power.html\n",
        "    * https://numpy.org/doc/stable/reference/generated/numpy.allclose.html"
      ]
    },
    {
      "cell_type": "markdown",
      "id": "a13ab35d-a7c0-4237-a394-691389c7c773",
      "metadata": {
        "id": "a13ab35d-a7c0-4237-a394-691389c7c773"
      },
      "source": [
        "## Вопросы для совместного обсуждения"
      ]
    },
    {
      "cell_type": "markdown",
      "id": "7ea53db8-da33-43ee-95e0-9876384499c1",
      "metadata": {
        "id": "7ea53db8-da33-43ee-95e0-9876384499c1"
      },
      "source": [
        "1\\. Обсудите понятие случайного блуждания на графах."
      ]
    },
    {
      "cell_type": "code",
      "source": [
        "import networkx as nx"
      ],
      "metadata": {
        "id": "4Chh19mOi7ve"
      },
      "id": "4Chh19mOi7ve",
      "execution_count": null,
      "outputs": []
    },
    {
      "cell_type": "code",
      "source": [
        "G = nx.karate_club_graph()"
      ],
      "metadata": {
        "id": "6Av9rsdjjKMM"
      },
      "id": "6Av9rsdjjKMM",
      "execution_count": null,
      "outputs": []
    },
    {
      "cell_type": "code",
      "source": [
        "G.edges(data=\"weight\")"
      ],
      "metadata": {
        "id": "kDTTjqsWjYWT"
      },
      "id": "kDTTjqsWjYWT",
      "execution_count": null,
      "outputs": []
    },
    {
      "cell_type": "code",
      "source": [
        "A = nx.adjacency_matrix(G, weight=None).toarray()\n",
        "A"
      ],
      "metadata": {
        "colab": {
          "base_uri": "https://localhost:8080/"
        },
        "id": "OixsKApGjLtH",
        "outputId": "ae15cfe0-96fa-44f7-f127-f3595ca88599"
      },
      "id": "OixsKApGjLtH",
      "execution_count": null,
      "outputs": [
        {
          "output_type": "execute_result",
          "data": {
            "text/plain": [
              "array([[0, 1, 1, ..., 1, 0, 0],\n",
              "       [1, 0, 1, ..., 0, 0, 0],\n",
              "       [1, 1, 0, ..., 0, 1, 0],\n",
              "       ...,\n",
              "       [1, 0, 0, ..., 0, 1, 1],\n",
              "       [0, 0, 1, ..., 1, 0, 1],\n",
              "       [0, 0, 0, ..., 1, 1, 0]])"
            ]
          },
          "metadata": {},
          "execution_count": 5
        }
      ]
    },
    {
      "cell_type": "code",
      "source": [
        "A[0] / A[0].sum()"
      ],
      "metadata": {
        "colab": {
          "base_uri": "https://localhost:8080/"
        },
        "id": "fx8gKKE_jlKg",
        "outputId": "2f178ce8-9066-48ad-8182-a374d7cd5fe5"
      },
      "id": "fx8gKKE_jlKg",
      "execution_count": null,
      "outputs": [
        {
          "output_type": "execute_result",
          "data": {
            "text/plain": [
              "array([0.    , 0.0625, 0.0625, 0.0625, 0.0625, 0.0625, 0.0625, 0.0625,\n",
              "       0.0625, 0.    , 0.0625, 0.0625, 0.0625, 0.0625, 0.    , 0.    ,\n",
              "       0.    , 0.0625, 0.    , 0.0625, 0.    , 0.0625, 0.    , 0.    ,\n",
              "       0.    , 0.    , 0.    , 0.    , 0.    , 0.    , 0.    , 0.0625,\n",
              "       0.    , 0.    ])"
            ]
          },
          "metadata": {},
          "execution_count": 9
        }
      ]
    },
    {
      "cell_type": "code",
      "source": [
        "import numpy as np\n",
        "\n",
        "D = np.diag([1, 2, 3, 4])\n",
        "D"
      ],
      "metadata": {
        "colab": {
          "base_uri": "https://localhost:8080/"
        },
        "id": "tXQAUphdj8SX",
        "outputId": "549cc8b6-16ee-40e2-dc52-5609b7f0f08e"
      },
      "id": "tXQAUphdj8SX",
      "execution_count": null,
      "outputs": [
        {
          "output_type": "execute_result",
          "data": {
            "text/plain": [
              "array([[1, 0, 0, 0],\n",
              "       [0, 2, 0, 0],\n",
              "       [0, 0, 3, 0],\n",
              "       [0, 0, 0, 4]])"
            ]
          },
          "metadata": {},
          "execution_count": 10
        }
      ]
    },
    {
      "cell_type": "markdown",
      "id": "5f786de8-ba69-4d86-b997-e55c9028acad",
      "metadata": {
        "id": "5f786de8-ba69-4d86-b997-e55c9028acad"
      },
      "source": [
        "## Задачи для самостоятельного решения"
      ]
    },
    {
      "cell_type": "markdown",
      "id": "c08a6cb0-9b05-4a80-a4cc-a2f70d9cbfd7",
      "metadata": {
        "id": "c08a6cb0-9b05-4a80-a4cc-a2f70d9cbfd7"
      },
      "source": [
        "<p class=\"task\" id=\"1\"></p>\n",
        "\n",
        "1\\. Загрузите граф карате-клуба. Получите матрицу смежности `A` этого графа. Получите на ее основе матрицу переходов `P` по следующему правилу:\n",
        "\n",
        "$$\\mathbf{P}=\\mathbf{D}^{-1}\\mathbf{A}$$\n",
        "\n",
        "Продемонстрируйте, что выполняются условия (1) и (2).\n",
        "\n",
        "$0 \\le p_{ij} \\le 1$ (1)\n",
        "\n",
        "$\\sum_j p_{ij}=1$    (2)\n",
        "\n",
        "- [ ] Проверено на семинаре"
      ]
    },
    {
      "cell_type": "code",
      "source": [
        "import networkx as nx\n",
        "import numpy as np"
      ],
      "metadata": {
        "id": "SpxAfTJnjOCk"
      },
      "id": "SpxAfTJnjOCk",
      "execution_count": 53,
      "outputs": []
    },
    {
      "cell_type": "code",
      "source": [
        "graph = nx.karate_club_graph()\n",
        "A = nx.adjacency_matrix(graph).toarray()\n",
        "A"
      ],
      "metadata": {
        "colab": {
          "base_uri": "https://localhost:8080/"
        },
        "id": "_7YxyxDPjOFI",
        "outputId": "742861d8-a226-4da6-d7db-fbf47ebd0756"
      },
      "id": "_7YxyxDPjOFI",
      "execution_count": 54,
      "outputs": [
        {
          "output_type": "execute_result",
          "data": {
            "text/plain": [
              "array([[0, 4, 5, ..., 2, 0, 0],\n",
              "       [4, 0, 6, ..., 0, 0, 0],\n",
              "       [5, 6, 0, ..., 0, 2, 0],\n",
              "       ...,\n",
              "       [2, 0, 0, ..., 0, 4, 4],\n",
              "       [0, 0, 2, ..., 4, 0, 5],\n",
              "       [0, 0, 0, ..., 4, 5, 0]])"
            ]
          },
          "metadata": {},
          "execution_count": 54
        }
      ]
    },
    {
      "cell_type": "code",
      "source": [
        "D = np.diag(np.sum(A, axis=1))\n",
        "P = np.dot(np.linalg.inv(D), A)\n",
        "P"
      ],
      "metadata": {
        "colab": {
          "base_uri": "https://localhost:8080/"
        },
        "id": "tIDuC7WejOHh",
        "outputId": "f0b61a3f-68c6-4fa8-8352-4f424b062087"
      },
      "id": "tIDuC7WejOHh",
      "execution_count": 55,
      "outputs": [
        {
          "output_type": "execute_result",
          "data": {
            "text/plain": [
              "array([[0.        , 0.0952381 , 0.11904762, ..., 0.04761905, 0.        ,\n",
              "        0.        ],\n",
              "       [0.13793103, 0.        , 0.20689655, ..., 0.        , 0.        ,\n",
              "        0.        ],\n",
              "       [0.15151515, 0.18181818, 0.        , ..., 0.        , 0.06060606,\n",
              "        0.        ],\n",
              "       ...,\n",
              "       [0.0952381 , 0.        , 0.        , ..., 0.        , 0.19047619,\n",
              "        0.19047619],\n",
              "       [0.        , 0.        , 0.05263158, ..., 0.10526316, 0.        ,\n",
              "        0.13157895],\n",
              "       [0.        , 0.        , 0.        , ..., 0.08333333, 0.10416667,\n",
              "        0.        ]])"
            ]
          },
          "metadata": {},
          "execution_count": 55
        }
      ]
    },
    {
      "cell_type": "code",
      "source": [
        "condition_1 = np.all((P >= 0) & (P <= 1))\n",
        "condition_1"
      ],
      "metadata": {
        "colab": {
          "base_uri": "https://localhost:8080/"
        },
        "id": "F9GcSrDVjOKJ",
        "outputId": "558876f0-cda2-41a0-be50-49377bc9a63e"
      },
      "id": "F9GcSrDVjOKJ",
      "execution_count": 56,
      "outputs": [
        {
          "output_type": "execute_result",
          "data": {
            "text/plain": [
              "True"
            ]
          },
          "metadata": {},
          "execution_count": 56
        }
      ]
    },
    {
      "cell_type": "code",
      "source": [
        "sum_columns = np.sum(P, axis=1)\n",
        "condition_2 = np.allclose(sum_columns, 1)\n",
        "condition_2"
      ],
      "metadata": {
        "colab": {
          "base_uri": "https://localhost:8080/"
        },
        "id": "f6fEa8Yuj2oo",
        "outputId": "9a2523aa-f4b2-4e83-948c-6e6069f6761c"
      },
      "id": "f6fEa8Yuj2oo",
      "execution_count": 57,
      "outputs": [
        {
          "output_type": "execute_result",
          "data": {
            "text/plain": [
              "True"
            ]
          },
          "metadata": {},
          "execution_count": 57
        }
      ]
    },
    {
      "cell_type": "markdown",
      "id": "1627fe14-1c25-4234-b887-8d295589f26a",
      "metadata": {
        "id": "1627fe14-1c25-4234-b887-8d295589f26a"
      },
      "source": [
        "<p class=\"task\" id=\"2\"></p>\n",
        "\n",
        "2\\. Создайте вектор начального состояния $\\mathbf{p}^0 = [0, ..., 1]^T$. Получите стационарное состояние $\\mathbf{p}^\\infty$, используя итеративную процедуру\n",
        "\n",
        "$\\mathbf{p}^{t+1}=(\\mathbf{P}^{\\top})\\mathbf{p}^t$\n",
        "\n",
        "Процесс заканчивается, когда $||\\mathbf{p}^{t+1} - \\mathbf{p}^{t}|| < \\epsilon $\n",
        "\n",
        "Выведите полученный вектор стационарного состояния на экран.\n",
        "\n",
        "- [ ] Проверено на семинаре"
      ]
    },
    {
      "cell_type": "code",
      "source": [
        "p0 = np.zeros((len(graph),1))\n",
        "p0[-1] = 1\n",
        "p0"
      ],
      "metadata": {
        "colab": {
          "base_uri": "https://localhost:8080/"
        },
        "id": "QOz2GGn3jOnG",
        "outputId": "344d5c4e-392f-4007-c910-98127798b33e"
      },
      "id": "QOz2GGn3jOnG",
      "execution_count": 64,
      "outputs": [
        {
          "output_type": "execute_result",
          "data": {
            "text/plain": [
              "array([[0.],\n",
              "       [0.],\n",
              "       [0.],\n",
              "       [0.],\n",
              "       [0.],\n",
              "       [0.],\n",
              "       [0.],\n",
              "       [0.],\n",
              "       [0.],\n",
              "       [0.],\n",
              "       [0.],\n",
              "       [0.],\n",
              "       [0.],\n",
              "       [0.],\n",
              "       [0.],\n",
              "       [0.],\n",
              "       [0.],\n",
              "       [0.],\n",
              "       [0.],\n",
              "       [0.],\n",
              "       [0.],\n",
              "       [0.],\n",
              "       [0.],\n",
              "       [0.],\n",
              "       [0.],\n",
              "       [0.],\n",
              "       [0.],\n",
              "       [0.],\n",
              "       [0.],\n",
              "       [0.],\n",
              "       [0.],\n",
              "       [0.],\n",
              "       [0.],\n",
              "       [1.]])"
            ]
          },
          "metadata": {},
          "execution_count": 64
        }
      ]
    },
    {
      "cell_type": "code",
      "source": [
        "k=0\n",
        "for i in range(1,1000):\n",
        "  k+=1\n",
        "  p_new = np.dot(P.T,p0)\n",
        "  if np.linalg.norm(p_new - p0) < 1e-6:\n",
        "    break\n",
        "  p0 = p_new\n",
        "print(f'Кол-во итераций: {k}')\n",
        "p_new"
      ],
      "metadata": {
        "colab": {
          "base_uri": "https://localhost:8080/"
        },
        "id": "Z-gPvoi1l3tg",
        "outputId": "3741d9af-7cb9-4958-e593-919d8c7828c3"
      },
      "id": "Z-gPvoi1l3tg",
      "execution_count": 65,
      "outputs": [
        {
          "output_type": "stream",
          "name": "stdout",
          "text": [
            "Кол-во итераций: 86\n"
          ]
        },
        {
          "output_type": "execute_result",
          "data": {
            "text/plain": [
              "array([[0.09090599],\n",
              "       [0.06276931],\n",
              "       [0.07142793],\n",
              "       [0.03896009],\n",
              "       [0.01731493],\n",
              "       [0.03030081],\n",
              "       [0.02813649],\n",
              "       [0.0281379 ],\n",
              "       [0.03679691],\n",
              "       [0.00649362],\n",
              "       [0.01731486],\n",
              "       [0.00649326],\n",
              "       [0.00865775],\n",
              "       [0.03679601],\n",
              "       [0.01082289],\n",
              "       [0.01515203],\n",
              "       [0.01298595],\n",
              "       [0.00649329],\n",
              "       [0.00649372],\n",
              "       [0.01082232],\n",
              "       [0.00865831],\n",
              "       [0.00865775],\n",
              "       [0.01082288],\n",
              "       [0.04545627],\n",
              "       [0.01515207],\n",
              "       [0.03030417],\n",
              "       [0.01298754],\n",
              "       [0.0281394 ],\n",
              "       [0.01298725],\n",
              "       [0.02813965],\n",
              "       [0.02380994],\n",
              "       [0.04545588],\n",
              "       [0.08225373],\n",
              "       [0.1038991 ]])"
            ]
          },
          "metadata": {},
          "execution_count": 65
        }
      ]
    },
    {
      "cell_type": "markdown",
      "id": "83e349d5-0e05-436b-9ecd-badbd2844fa4",
      "metadata": {
        "id": "83e349d5-0e05-436b-9ecd-badbd2844fa4"
      },
      "source": [
        "<p class=\"task\" id=\"3\"></p>\n",
        "\n",
        "3\\. Найдите матрицу перехода к стационарному состоянию $(\\mathbf{P}^{\\top})^\\infty$ при помощи процедуры возведения матрицы в степень.\n",
        "\n",
        "Докажите, что полученная матрица является матрицей стационарного состояния, т.е. $||(\\mathbf{P}^{\\top})^{\\infty}  -(\\mathbf{P}^{\\top})(\\mathbf{P}^{\\top})^{\\infty}|| <= \\epsilon$\n",
        "\n",
        "Выведите полученную матрицу на экран.\n",
        "\n",
        "- [ ] Проверено на семинаре"
      ]
    },
    {
      "cell_type": "code",
      "source": [
        "P_stationary = np.linalg.matrix_power(P.T, 1000)  # Возведение в большую степень\n",
        "\n",
        "norm_diff = np.linalg.norm(P_stationary - np.dot(P.T, P_stationary))\n",
        "condition = norm_diff <= 1e-6\n",
        "\n",
        "print(P_stationary)\n",
        "print(\"Условие выполняется:\", condition)"
      ],
      "metadata": {
        "colab": {
          "base_uri": "https://localhost:8080/"
        },
        "id": "PnWemrSQjPLG",
        "outputId": "6b5f53b4-734c-49e6-e831-db93b34a693c"
      },
      "id": "PnWemrSQjPLG",
      "execution_count": 66,
      "outputs": [
        {
          "output_type": "stream",
          "name": "stdout",
          "text": [
            "[[0.09090909 0.09090909 0.09090909 ... 0.09090909 0.09090909 0.09090909]\n",
            " [0.06277056 0.06277056 0.06277056 ... 0.06277056 0.06277056 0.06277056]\n",
            " [0.07142857 0.07142857 0.07142857 ... 0.07142857 0.07142857 0.07142857]\n",
            " ...\n",
            " [0.04545455 0.04545455 0.04545455 ... 0.04545455 0.04545455 0.04545455]\n",
            " [0.08225108 0.08225108 0.08225108 ... 0.08225108 0.08225108 0.08225108]\n",
            " [0.1038961  0.1038961  0.1038961  ... 0.1038961  0.1038961  0.1038961 ]]\n",
            "Условие выполняется: True\n"
          ]
        }
      ]
    },
    {
      "cell_type": "markdown",
      "id": "1ddf9392-8ee3-45c2-b462-f2f8a9ceb9ca",
      "metadata": {
        "id": "1ddf9392-8ee3-45c2-b462-f2f8a9ceb9ca"
      },
      "source": [
        "<p class=\"task\" id=\"4\"></p>\n",
        "\n",
        "4\\. Cоздайте вектор начального состояния $\\mathbf{p}^0 = [0, ..., 1]^T $. Получите стационарное состояние $\\mathbf{p}^\\infty$, воспользовавшись полученной матрицей $(\\mathbf{P}^{\\top})^\\infty$. Решите задачу двумя способами: при помощи матричного умножения и при помощи оператора индексации.\n",
        "\n",
        "Используя функцию `np.allclose`, покажите, что векторы стационарных состояний, полученные двумя разными методами, совпадают (с точностью до тысячных).\n",
        "\n",
        "- [ ] Проверено на семинаре"
      ]
    },
    {
      "cell_type": "code",
      "source": [
        "#1 способ\n",
        "p0 = np.zeros((len(graph),1))\n",
        "p0[-1] = 1\n",
        "p0"
      ],
      "metadata": {
        "colab": {
          "base_uri": "https://localhost:8080/"
        },
        "outputId": "b3c98f15-b618-49ad-85d2-6483052cdf74",
        "id": "-zRgbUnj8Ttu"
      },
      "execution_count": 75,
      "outputs": [
        {
          "output_type": "execute_result",
          "data": {
            "text/plain": [
              "array([[0.],\n",
              "       [0.],\n",
              "       [0.],\n",
              "       [0.],\n",
              "       [0.],\n",
              "       [0.],\n",
              "       [0.],\n",
              "       [0.],\n",
              "       [0.],\n",
              "       [0.],\n",
              "       [0.],\n",
              "       [0.],\n",
              "       [0.],\n",
              "       [0.],\n",
              "       [0.],\n",
              "       [0.],\n",
              "       [0.],\n",
              "       [0.],\n",
              "       [0.],\n",
              "       [0.],\n",
              "       [0.],\n",
              "       [0.],\n",
              "       [0.],\n",
              "       [0.],\n",
              "       [0.],\n",
              "       [0.],\n",
              "       [0.],\n",
              "       [0.],\n",
              "       [0.],\n",
              "       [0.],\n",
              "       [0.],\n",
              "       [0.],\n",
              "       [0.],\n",
              "       [1.]])"
            ]
          },
          "metadata": {},
          "execution_count": 75
        }
      ],
      "id": "-zRgbUnj8Ttu"
    },
    {
      "cell_type": "code",
      "source": [
        "P_1 = np.dot(P_stationary,p0)\n",
        "P_1"
      ],
      "metadata": {
        "colab": {
          "base_uri": "https://localhost:8080/"
        },
        "id": "bzgMESTV8b8F",
        "outputId": "9b94434b-a57c-45dd-a8e8-7e32fd91925a"
      },
      "id": "bzgMESTV8b8F",
      "execution_count": 76,
      "outputs": [
        {
          "output_type": "execute_result",
          "data": {
            "text/plain": [
              "array([[0.09090909],\n",
              "       [0.06277056],\n",
              "       [0.07142857],\n",
              "       [0.03896104],\n",
              "       [0.01731602],\n",
              "       [0.03030303],\n",
              "       [0.02813853],\n",
              "       [0.02813853],\n",
              "       [0.03679654],\n",
              "       [0.00649351],\n",
              "       [0.01731602],\n",
              "       [0.00649351],\n",
              "       [0.00865801],\n",
              "       [0.03679654],\n",
              "       [0.01082251],\n",
              "       [0.01515152],\n",
              "       [0.01298701],\n",
              "       [0.00649351],\n",
              "       [0.00649351],\n",
              "       [0.01082251],\n",
              "       [0.00865801],\n",
              "       [0.00865801],\n",
              "       [0.01082251],\n",
              "       [0.04545455],\n",
              "       [0.01515152],\n",
              "       [0.03030303],\n",
              "       [0.01298701],\n",
              "       [0.02813853],\n",
              "       [0.01298701],\n",
              "       [0.02813853],\n",
              "       [0.02380952],\n",
              "       [0.04545455],\n",
              "       [0.08225108],\n",
              "       [0.1038961 ]])"
            ]
          },
          "metadata": {},
          "execution_count": 76
        }
      ]
    },
    {
      "cell_type": "code",
      "source": [
        "P_stationary"
      ],
      "metadata": {
        "colab": {
          "base_uri": "https://localhost:8080/"
        },
        "id": "eWY3WRaz9ISr",
        "outputId": "03008ac8-3aa1-4ffe-8f48-c8cbeca44917"
      },
      "id": "eWY3WRaz9ISr",
      "execution_count": 77,
      "outputs": [
        {
          "output_type": "execute_result",
          "data": {
            "text/plain": [
              "array([[0.09090909, 0.09090909, 0.09090909, ..., 0.09090909, 0.09090909,\n",
              "        0.09090909],\n",
              "       [0.06277056, 0.06277056, 0.06277056, ..., 0.06277056, 0.06277056,\n",
              "        0.06277056],\n",
              "       [0.07142857, 0.07142857, 0.07142857, ..., 0.07142857, 0.07142857,\n",
              "        0.07142857],\n",
              "       ...,\n",
              "       [0.04545455, 0.04545455, 0.04545455, ..., 0.04545455, 0.04545455,\n",
              "        0.04545455],\n",
              "       [0.08225108, 0.08225108, 0.08225108, ..., 0.08225108, 0.08225108,\n",
              "        0.08225108],\n",
              "       [0.1038961 , 0.1038961 , 0.1038961 , ..., 0.1038961 , 0.1038961 ,\n",
              "        0.1038961 ]])"
            ]
          },
          "metadata": {},
          "execution_count": 77
        }
      ]
    },
    {
      "cell_type": "code",
      "source": [
        "#2 способ\n",
        "P_2 = P_stationary[:,-1]\n",
        "P_2"
      ],
      "metadata": {
        "colab": {
          "base_uri": "https://localhost:8080/"
        },
        "id": "NKkYonLC8b_d",
        "outputId": "8cb881ee-a17b-4903-b3f3-4ce6a677938f"
      },
      "id": "NKkYonLC8b_d",
      "execution_count": 78,
      "outputs": [
        {
          "output_type": "execute_result",
          "data": {
            "text/plain": [
              "array([0.09090909, 0.06277056, 0.07142857, 0.03896104, 0.01731602,\n",
              "       0.03030303, 0.02813853, 0.02813853, 0.03679654, 0.00649351,\n",
              "       0.01731602, 0.00649351, 0.00865801, 0.03679654, 0.01082251,\n",
              "       0.01515152, 0.01298701, 0.00649351, 0.00649351, 0.01082251,\n",
              "       0.00865801, 0.00865801, 0.01082251, 0.04545455, 0.01515152,\n",
              "       0.03030303, 0.01298701, 0.02813853, 0.01298701, 0.02813853,\n",
              "       0.02380952, 0.04545455, 0.08225108, 0.1038961 ])"
            ]
          },
          "metadata": {},
          "execution_count": 78
        }
      ]
    },
    {
      "cell_type": "code",
      "source": [
        "P_2 = np.reshape(P_2,(-1,1))\n",
        "P_2"
      ],
      "metadata": {
        "colab": {
          "base_uri": "https://localhost:8080/"
        },
        "id": "Fo3fLznljPpW",
        "outputId": "523c5c60-04c2-4d5f-bacf-c9551d2a6411"
      },
      "id": "Fo3fLznljPpW",
      "execution_count": 79,
      "outputs": [
        {
          "output_type": "execute_result",
          "data": {
            "text/plain": [
              "array([[0.09090909],\n",
              "       [0.06277056],\n",
              "       [0.07142857],\n",
              "       [0.03896104],\n",
              "       [0.01731602],\n",
              "       [0.03030303],\n",
              "       [0.02813853],\n",
              "       [0.02813853],\n",
              "       [0.03679654],\n",
              "       [0.00649351],\n",
              "       [0.01731602],\n",
              "       [0.00649351],\n",
              "       [0.00865801],\n",
              "       [0.03679654],\n",
              "       [0.01082251],\n",
              "       [0.01515152],\n",
              "       [0.01298701],\n",
              "       [0.00649351],\n",
              "       [0.00649351],\n",
              "       [0.01082251],\n",
              "       [0.00865801],\n",
              "       [0.00865801],\n",
              "       [0.01082251],\n",
              "       [0.04545455],\n",
              "       [0.01515152],\n",
              "       [0.03030303],\n",
              "       [0.01298701],\n",
              "       [0.02813853],\n",
              "       [0.01298701],\n",
              "       [0.02813853],\n",
              "       [0.02380952],\n",
              "       [0.04545455],\n",
              "       [0.08225108],\n",
              "       [0.1038961 ]])"
            ]
          },
          "metadata": {},
          "execution_count": 79
        }
      ]
    },
    {
      "cell_type": "code",
      "source": [
        "#Проверка\n",
        "np.allclose(P_1,P_2)"
      ],
      "metadata": {
        "colab": {
          "base_uri": "https://localhost:8080/"
        },
        "id": "48mOw-IX9zY5",
        "outputId": "1648584c-9725-4b29-d0c4-4d98982fe210"
      },
      "id": "48mOw-IX9zY5",
      "execution_count": 80,
      "outputs": [
        {
          "output_type": "execute_result",
          "data": {
            "text/plain": [
              "True"
            ]
          },
          "metadata": {},
          "execution_count": 80
        }
      ]
    },
    {
      "cell_type": "markdown",
      "id": "dd85a863-f864-4b7f-b88c-f96c469cbd3c",
      "metadata": {
        "id": "dd85a863-f864-4b7f-b88c-f96c469cbd3c"
      },
      "source": [
        "<p class=\"task\" id=\"5\"></p>\n",
        "\n",
        "5\\. Напишите функцию `generate_walk`, которая принимает на вход граф `G`, начальный узел `node` и генерирует случайное блуждание длины `walk_len`, начинающееся с этого узла. Сгенерируйте несколько реализаций (не меньше 1000) случайных блужданий длины 10 с началом в узле 7 и выясните, в каком узле случайные блуждания заканчиваются чаще всего. Выведите номер этого узла на экран.\n",
        "\n",
        "- [ ] Проверено на семинаре"
      ]
    },
    {
      "cell_type": "code",
      "execution_count": null,
      "id": "48c809ff",
      "metadata": {
        "id": "48c809ff"
      },
      "outputs": [],
      "source": [
        "def generate_walk(G, node, walk_len):\n",
        "    # ...\n",
        "    return walk"
      ]
    }
  ],
  "metadata": {
    "kernelspec": {
      "display_name": "Python 3 (ipykernel)",
      "language": "python",
      "name": "python3"
    },
    "language_info": {
      "codemirror_mode": {
        "name": "ipython",
        "version": 3
      },
      "file_extension": ".py",
      "mimetype": "text/x-python",
      "name": "python",
      "nbconvert_exporter": "python",
      "pygments_lexer": "ipython3",
      "version": "3.10.0"
    },
    "colab": {
      "provenance": []
    }
  },
  "nbformat": 4,
  "nbformat_minor": 5
}